{
  "nbformat": 4,
  "nbformat_minor": 0,
  "metadata": {
    "colab": {
      "provenance": [],
      "authorship_tag": "ABX9TyPgM4ApAEI+aB0Es2TmurKZ",
      "include_colab_link": true
    },
    "kernelspec": {
      "name": "python3",
      "display_name": "Python 3"
    },
    "language_info": {
      "name": "python"
    }
  },
  "cells": [
    {
      "cell_type": "markdown",
      "metadata": {
        "id": "view-in-github",
        "colab_type": "text"
      },
      "source": [
        "<a href=\"https://colab.research.google.com/github/hames08/PROGCOM-B/blob/main/Clase_2_Estructuras_de_repetici%C3%B3n_.ipynb\" target=\"_parent\"><img src=\"https://colab.research.google.com/assets/colab-badge.svg\" alt=\"Open In Colab\"/></a>"
      ]
    },
    {
      "cell_type": "markdown",
      "source": [
        "#Estructuras de repeticion.\n",
        "se emplean cuando se desea repetir\n",
        "una parte del codigo, dada una condicion."
      ],
      "metadata": {
        "id": "-BSGLEPNmBVG"
      }
    },
    {
      "cell_type": "markdown",
      "source": [
        "## Listas\n",
        "* Son un conjunto de tipo de datos,\n",
        " **indexado**, separado por comas, y\n",
        " encerrado entre [].\n",
        " * Todos los elementos dentro de una lista,\n",
        "  se empiezan a contar desde 0.\n",
        "\n",
        "  ### Creacion de listas\n",
        "  * Forma general: lista=[]\n",
        "  * Forma manual: animales=[\"gato\",\"perro\",\"zorro\",\"oso\"]\n",
        "  * Por conversion: numero=list(range(10))\n",
        "\n"
      ],
      "metadata": {
        "id": "cyoeZ4L-wueN"
      }
    },
    {
      "cell_type": "code",
      "source": [
        "lista=[\"lista\"]"
      ],
      "metadata": {
        "id": "y7vjp5LZyRuE"
      },
      "execution_count": 10,
      "outputs": []
    },
    {
      "cell_type": "code",
      "source": [
        "type(lista)"
      ],
      "metadata": {
        "colab": {
          "base_uri": "https://localhost:8080/"
        },
        "id": "5vitVgcPykxz",
        "outputId": "29c3d498-5a32-4a52-a059-8cd71cc9f8e8"
      },
      "execution_count": 8,
      "outputs": [
        {
          "output_type": "execute_result",
          "data": {
            "text/plain": [
              "list"
            ]
          },
          "metadata": {},
          "execution_count": 8
        }
      ]
    },
    {
      "cell_type": "code",
      "source": [
        "zorro=(1,2,3,4)\n",
        "animales=[\"gato\",\"perro\",zorro,\"oso\"]\n",
        "animales"
      ],
      "metadata": {
        "colab": {
          "base_uri": "https://localhost:8080/"
        },
        "id": "JPUV4zRkynOD",
        "outputId": "214cd02b-24a9-4336-e2bc-bea54b68f950"
      },
      "execution_count": 25,
      "outputs": [
        {
          "output_type": "execute_result",
          "data": {
            "text/plain": [
              "['gato', 'perro', (1, 2, 3, 4), 'oso']"
            ]
          },
          "metadata": {},
          "execution_count": 25
        }
      ]
    },
    {
      "cell_type": "code",
      "source": [
        "numero=list(range(10))\n",
        "numero"
      ],
      "metadata": {
        "colab": {
          "base_uri": "https://localhost:8080/"
        },
        "id": "w7CvFhAhzvPy",
        "outputId": "51a53a83-aa1a-4d2b-e713-f1568245b501"
      },
      "execution_count": 31,
      "outputs": [
        {
          "output_type": "execute_result",
          "data": {
            "text/plain": [
              "[0, 1, 2, 3, 4, 5, 6, 7, 8, 9]"
            ]
          },
          "metadata": {},
          "execution_count": 31
        }
      ]
    },
    {
      "cell_type": "code",
      "source": [
        "range(10)"
      ],
      "metadata": {
        "colab": {
          "base_uri": "https://localhost:8080/"
        },
        "id": "MJg78lIU0Iaq",
        "outputId": "31631fcd-6b72-4673-b6c5-d893e785898c"
      },
      "execution_count": 32,
      "outputs": [
        {
          "output_type": "execute_result",
          "data": {
            "text/plain": [
              "range(0, 10)"
            ]
          },
          "metadata": {},
          "execution_count": 32
        }
      ]
    },
    {
      "cell_type": "markdown",
      "source": [
        "##Estructura para - for.\n",
        "se usa cuando:\n",
        "* se sabe **cuantas veces** se repite\n",
        "una accion.\n",
        "*Esta compuesta por un contador y una\n",
        " condicion.\n",
        " * **contador**: identifica cuantas veces\n",
        " se va a repetir el bucle y con que\n",
        " frecuencia.\n",
        " * **condicion**: Evalua cuando se detiene.\n",
        "\n",
        " Por definicion:\n",
        "\n",
        "```\n",
        "# for variable in range(vi, vf+1, paso):\n",
        "aqui se repite parte del codigo.\n",
        "```\n",
        "Donde:\n",
        "1. vi: Condicion inicial. Donde arranco\n",
        "a contar.\n",
        "2. vf+1: Condicion final. Donde dejo de\n",
        "contar+1\n",
        "3. Paso: Frecuencia de conteo.\n",
        "\n",
        "For para recorrido de listas\n",
        "flor=[\"amapola\",\"rosa\",\"tulipan\",\"orquidea\"]\n",
        "\n",
        "* El para va a iterar tantas veces como\n",
        "elementos tenga la\n",
        " lista\n",
        "* La variable dentro del para,\n",
        "toma como valor, cada elemento de\n",
        "la lista.\n",
        "\n",
        "```\n",
        "for variable in lista:\n",
        "  variable\n",
        "```\n",
        "\n",
        "\n"
      ],
      "metadata": {
        "id": "GmytE2F4mXSF"
      }
    },
    {
      "cell_type": "code",
      "execution_count": 42,
      "metadata": {
        "colab": {
          "base_uri": "https://localhost:8080/"
        },
        "id": "UQf6hQNWg92I",
        "outputId": "bab79876-2a9b-4828-c930-49961720ffb4"
      },
      "outputs": [
        {
          "output_type": "stream",
          "name": "stdout",
          "text": [
            "amapola\n",
            "rosa\n",
            "tulipan\n",
            "orquidea\n"
          ]
        }
      ],
      "source": [
        "#creando una lista de nombre flor\n",
        "flor=[\"amapola\",\"rosa\",\"tulipan\",\"orquidea\"]\n",
        "for flores in flor:\n",
        "  print(flores)"
      ]
    },
    {
      "cell_type": "markdown",
      "source": [
        "##Estructura while\n",
        "\n",
        "* Se emplea cuando **NO SE SABE**\n",
        "cuantas veces se debe repetir una\n",
        "accion, pero si se conoce su\n",
        "condicion de parada (cp).\n",
        "* Condicion inicial: Donde\n",
        "arranca el ciclo.\n",
        "* Condicion final (parada): Que\n",
        "indica donde se detiene el ciclo.\n",
        "* Modificador de condicion inicial\n",
        "\n",
        "Estructura general del mientras\n",
        "\n",
        "```\n",
        "Condicion inicial\n",
        "while (condicion==condicion final):\n",
        "  modificador de condicion inicial\n",
        "\n",
        "```\n",
        "Modificadores de condicion inicial\n",
        "\n",
        "* Banderas: son booleanos.\n",
        "* Son preguntas.\n",
        "* Son contadores o acumuladores.\n"
      ],
      "metadata": {
        "id": "7vtB2Up-2e_w"
      }
    }
  ]
}