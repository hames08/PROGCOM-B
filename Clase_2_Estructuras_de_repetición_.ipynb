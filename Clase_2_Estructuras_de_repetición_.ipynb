{
  "nbformat": 4,
  "nbformat_minor": 0,
  "metadata": {
    "colab": {
      "provenance": [],
      "authorship_tag": "ABX9TyO8IObmL80SBEm8tbOihg0g",
      "include_colab_link": true
    },
    "kernelspec": {
      "name": "python3",
      "display_name": "Python 3"
    },
    "language_info": {
      "name": "python"
    }
  },
  "cells": [
    {
      "cell_type": "markdown",
      "metadata": {
        "id": "view-in-github",
        "colab_type": "text"
      },
      "source": [
        "<a href=\"https://colab.research.google.com/github/hames08/PROGCOM-B/blob/main/Clase_2_Estructuras_de_repetici%C3%B3n_.ipynb\" target=\"_parent\"><img src=\"https://colab.research.google.com/assets/colab-badge.svg\" alt=\"Open In Colab\"/></a>"
      ]
    },
    {
      "cell_type": "markdown",
      "source": [
        "#Estructuras de repeticion.\n",
        "se emplean cuando se desea repetir\n",
        "una parte del codigo, dada una condicion."
      ],
      "metadata": {
        "id": "-BSGLEPNmBVG"
      }
    },
    {
      "cell_type": "markdown",
      "source": [
        "## Listas\n",
        "* Son un conjunto de tipo de datos,\n",
        " **indexado**, separado por comas, y\n",
        " encerrado entre [].\n",
        " * Todos los elementos dentro de una lista,\n",
        "  se empiezan a contar desde 0.\n",
        "\n",
        "  ### Creacion de listas\n",
        "  * Forma general: lista=[]\n",
        "  * Forma manual: animales=[\"gato\",\"perro\",\"zorro\",\"oso\"]\n",
        "  * Por conversion: numero=list(range(10))\n",
        "  * Son objetos\n",
        "\n"
      ],
      "metadata": {
        "id": "cyoeZ4L-wueN"
      }
    },
    {
      "cell_type": "code",
      "source": [
        "lista=[ ]"
      ],
      "metadata": {
        "id": "y7vjp5LZyRuE"
      },
      "execution_count": 4,
      "outputs": []
    },
    {
      "cell_type": "code",
      "source": [
        "lista=list[range(1,8)]"
      ],
      "metadata": {
        "id": "aJruROAWPFvM"
      },
      "execution_count": 1,
      "outputs": []
    },
    {
      "cell_type": "code",
      "source": [
        "type(lista)"
      ],
      "metadata": {
        "colab": {
          "base_uri": "https://localhost:8080/"
        },
        "id": "5vitVgcPykxz",
        "outputId": "29c3d498-5a32-4a52-a059-8cd71cc9f8e8"
      },
      "execution_count": null,
      "outputs": [
        {
          "output_type": "execute_result",
          "data": {
            "text/plain": [
              "list"
            ]
          },
          "metadata": {},
          "execution_count": 8
        }
      ]
    },
    {
      "cell_type": "code",
      "source": [
        "zorro=(1,2,3,4)\n",
        "animales=[\"gato\",\"perro\",zorro,\"oso\"]\n",
        "animales"
      ],
      "metadata": {
        "colab": {
          "base_uri": "https://localhost:8080/"
        },
        "id": "JPUV4zRkynOD",
        "outputId": "214cd02b-24a9-4336-e2bc-bea54b68f950"
      },
      "execution_count": null,
      "outputs": [
        {
          "output_type": "execute_result",
          "data": {
            "text/plain": [
              "['gato', 'perro', (1, 2, 3, 4), 'oso']"
            ]
          },
          "metadata": {},
          "execution_count": 25
        }
      ]
    },
    {
      "cell_type": "code",
      "source": [
        "numero=list(range(10))\n",
        "numero"
      ],
      "metadata": {
        "colab": {
          "base_uri": "https://localhost:8080/"
        },
        "id": "w7CvFhAhzvPy",
        "outputId": "51a53a83-aa1a-4d2b-e713-f1568245b501"
      },
      "execution_count": null,
      "outputs": [
        {
          "output_type": "execute_result",
          "data": {
            "text/plain": [
              "[0, 1, 2, 3, 4, 5, 6, 7, 8, 9]"
            ]
          },
          "metadata": {},
          "execution_count": 31
        }
      ]
    },
    {
      "cell_type": "code",
      "source": [
        "range(10)"
      ],
      "metadata": {
        "colab": {
          "base_uri": "https://localhost:8080/"
        },
        "id": "MJg78lIU0Iaq",
        "outputId": "31631fcd-6b72-4673-b6c5-d893e785898c"
      },
      "execution_count": null,
      "outputs": [
        {
          "output_type": "execute_result",
          "data": {
            "text/plain": [
              "range(0, 10)"
            ]
          },
          "metadata": {},
          "execution_count": 32
        }
      ]
    },
    {
      "cell_type": "markdown",
      "source": [
        "##Estructura para - for.\n",
        "se usa cuando:\n",
        "* se sabe **cuantas veces** se repite\n",
        "una accion.\n",
        "*Esta compuesta por un contador y una\n",
        " condicion.\n",
        " * **contador**: identifica cuantas veces\n",
        " se va a repetir el bucle y con que\n",
        " frecuencia.\n",
        " * **condicion**: Evalua cuando se detiene.\n",
        "\n",
        " Por definicion:\n",
        "\n",
        "```\n",
        "# for variable in range(vi, vf+1, paso):\n",
        "aqui se repite parte del codigo.\n",
        "```\n",
        "Donde:\n",
        "1. vi: Condicion inicial. Donde arranco\n",
        "a contar.\n",
        "2. vf+1: Condicion final. Donde dejo de\n",
        "contar+1\n",
        "3. Paso: Frecuencia de conteo.\n",
        "\n",
        "For para recorrido de listas\n",
        "flor=[\"amapola\",\"rosa\",\"tulipan\",\"orquidea\"]\n",
        "\n",
        "* El para va a iterar tantas veces como\n",
        "elementos tenga la\n",
        " lista\n",
        "* La variable dentro del para,\n",
        "toma como valor, cada elemento de\n",
        "la lista.\n",
        "\n",
        "```\n",
        "for variable in lista:\n",
        "  variable\n",
        "```\n",
        "\n",
        "\n"
      ],
      "metadata": {
        "id": "GmytE2F4mXSF"
      }
    },
    {
      "cell_type": "code",
      "execution_count": 17,
      "metadata": {
        "colab": {
          "base_uri": "https://localhost:8080/"
        },
        "id": "UQf6hQNWg92I",
        "outputId": "31c5245e-73a1-4f9e-a899-785e39a27048"
      },
      "outputs": [
        {
          "output_type": "stream",
          "name": "stdout",
          "text": [
            "amapola\n",
            "rosa\n",
            "tulipan\n"
          ]
        }
      ],
      "source": [
        "#creando una lista de nombre flor\n",
        "flor=[\"amapola\",\"rosa\",\"tulipan\",\"orquidea\"]\n",
        "for flores in flor:\n",
        "  print(flores)\n",
        "  if flores==\"tulipan\":\n",
        "     break"
      ]
    },
    {
      "cell_type": "code",
      "source": [
        "name=[]\n",
        "for nombres2 in range(5):\n",
        "  name.append(input(\"ingrese su nombre:\"))"
      ],
      "metadata": {
        "colab": {
          "base_uri": "https://localhost:8080/"
        },
        "id": "mt7lKbkBQSp7",
        "outputId": "e23a0b52-ab29-486e-dd08-fa4beed1bbbb"
      },
      "execution_count": 27,
      "outputs": [
        {
          "name": "stdout",
          "output_type": "stream",
          "text": [
            "ingrese su nombre:1\n",
            "ingrese su nombre:2\n",
            "ingrese su nombre:3\n",
            "ingrese su nombre:4\n",
            "ingrese su nombre:5\n"
          ]
        }
      ]
    },
    {
      "cell_type": "code",
      "source": [
        "name"
      ],
      "metadata": {
        "colab": {
          "base_uri": "https://localhost:8080/",
          "height": 35
        },
        "id": "ELugtYleRE6D",
        "outputId": "fb4d96b6-e205-4a63-e8a7-a64a6a4dfa8b"
      },
      "execution_count": 16,
      "outputs": [
        {
          "output_type": "execute_result",
          "data": {
            "text/plain": [
              "'5'"
            ],
            "application/vnd.google.colaboratory.intrinsic+json": {
              "type": "string"
            }
          },
          "metadata": {},
          "execution_count": 16
        }
      ]
    },
    {
      "cell_type": "markdown",
      "source": [
        "##Estructura while\n",
        "\n",
        "* Se emplea cuando **NO SE SABE**\n",
        "cuantas veces se debe repetir una\n",
        "accion, pero si se conoce su\n",
        "condicion de parada (cp).\n",
        "* Condicion inicial: Donde\n",
        "arranca el ciclo.\n",
        "* Condicion final (parada): Que\n",
        "indica donde se detiene el ciclo.\n",
        "* Modificador de condicion inicial\n",
        "\n",
        "Estructura general del mientras\n",
        "\n",
        "```\n",
        "Condicion inicial\n",
        "while (condicion==condicion final):\n",
        "  modificador de condicion inicial\n",
        "\n",
        "```\n",
        "Modificadores de condicion inicial\n",
        "\n",
        "* Banderas: son booleanos.\n",
        "* Son preguntas.\n",
        "* Son contadores o acumuladores.\n"
      ],
      "metadata": {
        "id": "7vtB2Up-2e_w"
      }
    },
    {
      "cell_type": "markdown",
      "source": [
        "##EJERCICIOS"
      ],
      "metadata": {
        "id": "Il3jcgInTRnB"
      }
    },
    {
      "cell_type": "markdown",
      "source": [
        "#1. Escribe un programa que imprima los números del 1 al 10."
      ],
      "metadata": {
        "id": "hdyU-SlfTY_I"
      }
    },
    {
      "cell_type": "code",
      "source": [
        "#for\n",
        "for numeros in range(1, 11):\n",
        "  print(numeros)"
      ],
      "metadata": {
        "colab": {
          "base_uri": "https://localhost:8080/"
        },
        "id": "OLq2166TTiww",
        "outputId": "0398bc53-60b6-4b8f-ae1b-d95afd977456"
      },
      "execution_count": 29,
      "outputs": [
        {
          "output_type": "stream",
          "name": "stdout",
          "text": [
            "1\n",
            "2\n",
            "3\n",
            "4\n",
            "5\n",
            "6\n",
            "7\n",
            "8\n",
            "9\n",
            "10\n"
          ]
        }
      ]
    },
    {
      "cell_type": "code",
      "source": [
        "#for-list\n",
        "list1=[1,2,4,4,5,6,7,8,9,10]\n",
        "for numeros in list1:\n",
        " print(numeros)\n"
      ],
      "metadata": {
        "colab": {
          "base_uri": "https://localhost:8080/"
        },
        "id": "lcRkPHUPTtxg",
        "outputId": "996a7da3-a69e-446c-84ef-962d383f55a8"
      },
      "execution_count": 45,
      "outputs": [
        {
          "output_type": "stream",
          "name": "stdout",
          "text": [
            "1\n",
            "2\n",
            "4\n",
            "4\n",
            "5\n",
            "6\n",
            "7\n",
            "8\n",
            "9\n",
            "10\n"
          ]
        }
      ]
    },
    {
      "cell_type": "markdown",
      "source": [
        "#2 Escribe un programa que sume los números del 1 al 100."
      ],
      "metadata": {
        "id": "_IfoFirtWjtG"
      }
    },
    {
      "cell_type": "code",
      "source": [
        "#for\n",
        "s = 0\n",
        "for suma in range(1, 101):\n",
        "  s += suma\n",
        "print(s)"
      ],
      "metadata": {
        "colab": {
          "base_uri": "https://localhost:8080/"
        },
        "id": "S9JSYjfHWrLV",
        "outputId": "55642762-a4f9-4890-d024-8f124aa988d1"
      },
      "execution_count": 75,
      "outputs": [
        {
          "output_type": "stream",
          "name": "stdout",
          "text": [
            "5050\n"
          ]
        }
      ]
    },
    {
      "cell_type": "code",
      "source": [
        "#for-lista\n",
        "s=0\n",
        "list2=list(range(1,101))\n",
        "for numeros in list2:\n",
        "   s += numeros\n",
        "print(s)"
      ],
      "metadata": {
        "colab": {
          "base_uri": "https://localhost:8080/"
        },
        "id": "H47shEWLXDld",
        "outputId": "19dbac5b-6b7a-4d09-c85a-4355b486e67d"
      },
      "execution_count": 2,
      "outputs": [
        {
          "output_type": "stream",
          "name": "stdout",
          "text": [
            "5050\n"
          ]
        }
      ]
    },
    {
      "cell_type": "markdown",
      "source": [
        "#3. Escribe un programa que imprima los múltiplos de 3 entre 1 y 30."
      ],
      "metadata": {
        "id": "Hy7OJBH0Ytv8"
      }
    },
    {
      "cell_type": "code",
      "source": [
        "#for\n",
        "for multiplos in range(1, 31):\n",
        "  if multiplos % 3 == 0:\n",
        "    print(multiplos)"
      ],
      "metadata": {
        "colab": {
          "base_uri": "https://localhost:8080/"
        },
        "id": "7SvBuz9_ZMHT",
        "outputId": "605d408e-484b-4f0c-f594-897fc091ef7b"
      },
      "execution_count": 76,
      "outputs": [
        {
          "output_type": "stream",
          "name": "stdout",
          "text": [
            "3\n",
            "6\n",
            "9\n",
            "12\n",
            "15\n",
            "18\n",
            "21\n",
            "24\n",
            "27\n",
            "30\n"
          ]
        }
      ]
    },
    {
      "cell_type": "code",
      "source": [
        "list3=list(range(1,31))\n",
        "for multiplos in list3:\n",
        "  if multiplos % 3 == 0:\n",
        "    print(multiplos)"
      ],
      "metadata": {
        "colab": {
          "base_uri": "https://localhost:8080/"
        },
        "id": "B2g4RCUMaU0q",
        "outputId": "097b3b90-0b09-4037-cff8-b3ec0acc1aba"
      },
      "execution_count": 5,
      "outputs": [
        {
          "output_type": "stream",
          "name": "stdout",
          "text": [
            "3\n",
            "6\n",
            "9\n",
            "12\n",
            "15\n",
            "18\n",
            "21\n",
            "24\n",
            "27\n",
            "30\n"
          ]
        }
      ]
    },
    {
      "cell_type": "markdown",
      "source": [
        "#4 Escribe un programa que lea un número e imprima su tabla de multiplicar del 1 al 10."
      ],
      "metadata": {
        "id": "-kVlDR6_cyqA"
      }
    },
    {
      "cell_type": "code",
      "source": [
        "#for\n",
        "n = int(input(\"Introduzca un numero:\"))\n",
        "for tabla in range(1, 11):\n",
        "  print(f\"{n} x {tabla} = {n*tabla}\")"
      ],
      "metadata": {
        "colab": {
          "base_uri": "https://localhost:8080/"
        },
        "id": "IcUF4qV_cybY",
        "outputId": "3c81e53d-53e3-44bb-8a52-dfde1d1daeda"
      },
      "execution_count": 6,
      "outputs": [
        {
          "output_type": "stream",
          "name": "stdout",
          "text": [
            "Introduzca un numero:6\n",
            "6 x 1 = 6\n",
            "6 x 2 = 12\n",
            "6 x 3 = 18\n",
            "6 x 4 = 24\n",
            "6 x 5 = 30\n",
            "6 x 6 = 36\n",
            "6 x 7 = 42\n",
            "6 x 8 = 48\n",
            "6 x 9 = 54\n",
            "6 x 10 = 60\n"
          ]
        }
      ]
    },
    {
      "cell_type": "code",
      "source": [
        "#for-lista\n",
        "n = int(input(\"Introduzca un numero:\"))\n",
        "list4=list(range(1,11))\n",
        "for tabla in list4:\n",
        "     print(f\"{n} x {tabla} = {n*tabla}\")"
      ],
      "metadata": {
        "colab": {
          "base_uri": "https://localhost:8080/"
        },
        "id": "YqvMy6urdjSA",
        "outputId": "2b57e56b-3935-453b-c43f-c4a3f81f0d50"
      },
      "execution_count": 11,
      "outputs": [
        {
          "output_type": "stream",
          "name": "stdout",
          "text": [
            "Introduzca un numero:6\n",
            "6 x 1 = 6\n",
            "6 x 2 = 12\n",
            "6 x 3 = 18\n",
            "6 x 4 = 24\n",
            "6 x 5 = 30\n",
            "6 x 6 = 36\n",
            "6 x 7 = 42\n",
            "6 x 8 = 48\n",
            "6 x 9 = 54\n",
            "6 x 10 = 60\n"
          ]
        }
      ]
    },
    {
      "cell_type": "markdown",
      "source": [
        "#5 Escribe un programa que pida 5 números al usuario y calcule el promedio."
      ],
      "metadata": {
        "id": "XnW2aFXQdyJo"
      }
    },
    {
      "cell_type": "code",
      "source": [
        "#for\n",
        "s = 0\n",
        "for num in range(5):\n",
        "  n = int(input(f\"Introduzca el numero {num+1}:\"))\n",
        "  s += n\n",
        "promedio = s / 5\n",
        "print(f\"El promedio es: {promedio}\")"
      ],
      "metadata": {
        "colab": {
          "base_uri": "https://localhost:8080/"
        },
        "id": "EeklAUOjd2jP",
        "outputId": "e36adc44-282d-4b59-f4fa-00a8eb516b4b"
      },
      "execution_count": 21,
      "outputs": [
        {
          "output_type": "stream",
          "name": "stdout",
          "text": [
            "Introduzca el numero 1:5\n",
            "Introduzca el numero 2:5\n",
            "Introduzca el numero 3:5\n",
            "Introduzca el numero 4:5\n",
            "Introduzca el numero 5:5\n",
            "El promedio es: 5.0\n"
          ]
        }
      ]
    },
    {
      "cell_type": "markdown",
      "source": [
        "#6. Escribe un programa que cuente cuántos números pares hay entre 1 y un número ingresado.\n"
      ],
      "metadata": {
        "id": "eUsPNr6yd3_v"
      }
    },
    {
      "cell_type": "code",
      "source": [
        "#for\n",
        "n = int(input(\"Introduzca un numero:\"))\n",
        "contador = 0\n",
        "for i in range(1, n + 1):\n",
        "    if i % 2 == 0:\n",
        "        contador += 1\n",
        "print(f\"Hay {contador} numeros pares entre 1 y {n}\")"
      ],
      "metadata": {
        "id": "4AWdz9THd9L4"
      },
      "execution_count": null,
      "outputs": []
    },
    {
      "cell_type": "code",
      "source": [],
      "metadata": {
        "id": "naDIzRc0d-Dn"
      },
      "execution_count": null,
      "outputs": []
    }
  ]
}