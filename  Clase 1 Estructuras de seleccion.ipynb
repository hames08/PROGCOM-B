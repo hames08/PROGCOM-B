{
  "nbformat": 4,
  "nbformat_minor": 0,
  "metadata": {
    "colab": {
      "provenance": [],
      "authorship_tag": "ABX9TyOGCtxufr038lRxZTu3fTK4",
      "include_colab_link": true
    },
    "kernelspec": {
      "name": "python3",
      "display_name": "Python 3"
    },
    "language_info": {
      "name": "python"
    }
  },
  "cells": [
    {
      "cell_type": "markdown",
      "metadata": {
        "id": "view-in-github",
        "colab_type": "text"
      },
      "source": [
        "<a href=\"https://colab.research.google.com/github/hames08/PROGCOM-B/blob/main/%20Clase%201%20Estructuras%20de%20seleccion.ipynb\" target=\"_parent\"><img src=\"https://colab.research.google.com/assets/colab-badge.svg\" alt=\"Open In Colab\"/></a>"
      ]
    },
    {
      "cell_type": "code",
      "execution_count": null,
      "metadata": {
        "id": "Pm3-fKYKLHJg"
      },
      "outputs": [],
      "source": []
    },
    {
      "cell_type": "markdown",
      "source": [
        "#Estructuras de seleecion\n",
        "se emplean cuando quiero evaluar una condicion. el resultado de la evaluacion"
      ],
      "metadata": {
        "id": "bWDYjZhALeXX"
      }
    },
    {
      "cell_type": "markdown",
      "source": [
        "#Estructura if-else\n",
        "\n",
        "```\n",
        "if (condicion):\n",
        "entro aqui, si la condicion dio v.\n",
        "else:\n",
        "entro aqui, si la condicion = F\n",
        "```\n",
        "\n"
      ],
      "metadata": {
        "id": "4J7uUbmxLwlH"
      }
    },
    {
      "cell_type": "markdown",
      "source": [
        "#7. Año bisiesto"
      ],
      "metadata": {
        "id": "3t9wh0YTMbHe"
      }
    },
    {
      "cell_type": "code",
      "source": [
        "#1. Es divisible entre 4\n",
        "#2. es divisible entre 400 pero no entre 100\n",
        "año=int(input(\"Introduzca un año:\"))\n",
        "if(año%4==0 and año%100!=0):\n",
        "  print(f\"{año} es un año bisiesto\")\n",
        "else:\n",
        " if año%400==0:\n",
        "  print(f\"{año} es un año bisiesto\")\n",
        " else:\n",
        "  print(f\"{año} NO es un año bisiesto\")"
      ],
      "metadata": {
        "colab": {
          "base_uri": "https://localhost:8080/"
        },
        "id": "-EWdWnywMkGZ",
        "outputId": "5443df77-eb74-4add-d1c7-60e393df1a72"
      },
      "execution_count": null,
      "outputs": [
        {
          "output_type": "stream",
          "name": "stdout",
          "text": [
            "Introduzca un año:90\n",
            "90 NO es un año bisiesto\n"
          ]
        }
      ]
    },
    {
      "cell_type": "markdown",
      "source": [
        "##Estructura de decision multiple if-elif-else\n",
        "se emplea cuandp hay mas de una decision.\n",
        "\n",
        "```\n",
        "if (cond1):\n",
        "si cond1 es verdadero, entro aqui\n",
        "elif(cond2):\n",
        "si cond1 es falso, PERO cond2 es verdadero, entro aqui.\n",
        "elif(cond3)\n",
        "Si cond1 y cond2 son falsos, pero cond3 es verdadero, entro aqui\n",
        "else: si cond1 y cond2 y cond3 y cond n son falsas, entre aqui.\n",
        "```\n",
        "\n"
      ],
      "metadata": {
        "id": "URrNk43PO06F"
      }
    },
    {
      "cell_type": "code",
      "source": [
        "if(año%4==0 and año%100!=0): print(f\"{año} es un año bisiesto\")\n",
        "elif año%400==0: print(f\"{año} es un año bisiesto\")\n",
        "else:print(f\"{año} NO es un año bisiesto\")"
      ],
      "metadata": {
        "colab": {
          "base_uri": "https://localhost:8080/"
        },
        "id": "scmvLVDoQHGD",
        "outputId": "eb4848ef-6894-46a6-e341-b81c01633e7d"
      },
      "execution_count": null,
      "outputs": [
        {
          "output_type": "stream",
          "name": "stdout",
          "text": [
            "90 NO es un año bisiesto\n"
          ]
        }
      ]
    },
    {
      "cell_type": "markdown",
      "source": [
        "##Operador terniario\n",
        "programar una estructura de seleccion en una\n",
        "sola linea de codigo\n",
        "\n",
        "```\n",
        "(lo que se dbe ejecutar, si la condicion es\n",
        " verdadera) if (condicion) else (lo que se\n",
        " debe ejecutar, si la condicion es falsa)\n",
        "```\n",
        "\n"
      ],
      "metadata": {
        "id": "eodNKDANVHTb"
      }
    },
    {
      "cell_type": "code",
      "source": [
        "print(f\"{año} es un año bisiesto\") if (año%4==0 and año%100!=0) else (print(f\"{año} es un año bisiesto\")) if año%400==0 else print(f\"{año} NO es un año bisiesto\")"
      ],
      "metadata": {
        "colab": {
          "base_uri": "https://localhost:8080/"
        },
        "id": "MMMkMNv6U_nQ",
        "outputId": "c78604e1-ccbc-4e98-b410-604c234d8e94"
      },
      "execution_count": null,
      "outputs": [
        {
          "output_type": "stream",
          "name": "stdout",
          "text": [
            "90 NO es un año bisiesto\n"
          ]
        }
      ]
    },
    {
      "cell_type": "markdown",
      "source": [
        "##ejercicios\n",
        "\n"
      ],
      "metadata": {
        "id": "PtDi4AVpSoXy"
      }
    },
    {
      "cell_type": "markdown",
      "source": [
        "# 1.Escribe un programa que reciba un número e indique si es positivo."
      ],
      "metadata": {
        "id": "biFhQ5UTQx00"
      }
    },
    {
      "cell_type": "code",
      "source": [
        "#elif-else\n",
        "n=int(input(\"ingrese un numero:\"))\n",
        "if n>0:\n",
        "  print(\"el numero es positivo\")\n",
        "else:\n",
        "  print(\"el numero es negativo\")"
      ],
      "metadata": {
        "id": "YUDWXFRLLP5f"
      },
      "execution_count": null,
      "outputs": []
    },
    {
      "cell_type": "code",
      "source": [
        "#if-elif-else\n",
        "n=int(input(\"ingrese un numero:\"))\n",
        "if n>0:\n",
        "  print(f\"el {n}  es positivo\")\n",
        "elif n==0:\n",
        "  print(f\"el {n}  es cero\")\n",
        "else:\n",
        "  print(f\"el {n} es negativo\")"
      ],
      "metadata": {
        "colab": {
          "base_uri": "https://localhost:8080/"
        },
        "id": "PDQcICGqTPxK",
        "outputId": "2fe2ecb5-98db-4419-b85b-a78a60dc98f4"
      },
      "execution_count": null,
      "outputs": [
        {
          "output_type": "stream",
          "name": "stdout",
          "text": [
            "ingrese un numero:788\n",
            "el 788  es positivo\n"
          ]
        }
      ]
    },
    {
      "cell_type": "code",
      "source": [
        "#Operador terniario\n",
        "n=int(input(\"ingrese un numero:\"))\n",
        "print(f\"el {n}  es positivo\") if (n>0) else print(f\"el {n} es negativo\")"
      ],
      "metadata": {
        "colab": {
          "base_uri": "https://localhost:8080/"
        },
        "id": "-p4RGgZ5aXVW",
        "outputId": "97291dba-5873-4e9a-a1bd-c961710c31d2"
      },
      "execution_count": null,
      "outputs": [
        {
          "output_type": "stream",
          "name": "stdout",
          "text": [
            "ingrese un numero:45\n",
            "el 45  es positivo\n"
          ]
        }
      ]
    },
    {
      "cell_type": "markdown",
      "source": [
        "# 2.Escribe un programa que reciba una edad y determine si la persona es mayor de edad."
      ],
      "metadata": {
        "id": "fZE-ojTkWzwQ"
      }
    },
    {
      "cell_type": "code",
      "source": [
        "#elif-else\n",
        "e=int(input(\"ingrese su edad:\"))\n",
        "if e>=18:\n",
        "  print(\"usted es mayor de edad\")\n",
        "else:\n",
        "  print(\"usted es menor de edad\")"
      ],
      "metadata": {
        "colab": {
          "base_uri": "https://localhost:8080/"
        },
        "id": "hR1nkEBBW6X_",
        "outputId": "3d47b591-27ae-46cc-d227-0def1c430ea1"
      },
      "execution_count": null,
      "outputs": [
        {
          "output_type": "stream",
          "name": "stdout",
          "text": [
            "ingrese su edad:47\n",
            "usted es mayor de edad\n"
          ]
        }
      ]
    },
    {
      "cell_type": "code",
      "source": [
        "#if-elif-else\n",
        "n=int(input(\"ingrese su edad:\"))\n",
        "if n>18:\n",
        "    print(\"usted es mayor de edad\")\n",
        "elif n==18:\n",
        "     print(\"usted es mayor de edad\")\n",
        "else:\n",
        "     print(\"usted es menor de edad\")"
      ],
      "metadata": {
        "colab": {
          "base_uri": "https://localhost:8080/"
        },
        "id": "iR371WL2XLdV",
        "outputId": "9b5eaa7c-fb13-436a-aa96-7bf3bbb7a44f"
      },
      "execution_count": null,
      "outputs": [
        {
          "output_type": "stream",
          "name": "stdout",
          "text": [
            "ingrese su edad:45\n",
            "usted es mayor de edad\n"
          ]
        }
      ]
    },
    {
      "cell_type": "code",
      "source": [
        "#Operador terniario\n",
        "n=int(input(\"Ingresar edad:\"))\n",
        "print(\"Usted es mayor de edad\") if (n>=18) else print(\"Usted es menor de edad\")"
      ],
      "metadata": {
        "id": "nxVUdxNHcytK"
      },
      "execution_count": null,
      "outputs": []
    },
    {
      "cell_type": "markdown",
      "source": [
        "#3. Escribe un programa que reciba dos números e imprima el mayor."
      ],
      "metadata": {
        "id": "zR22nAyhcElC"
      }
    },
    {
      "cell_type": "code",
      "source": [
        "#if-else\n",
        "n=int(input(\"Ingresar numero A: \"))\n",
        "l=int(input(\"Ingresar numero B: \"))\n",
        "if n>l:\n",
        "  print(f\"El numero {n} es mayor que {l}\")\n",
        "else:\n",
        "  print(f\"El numero {l} es mayor que {n}\")"
      ],
      "metadata": {
        "id": "q-mMg_7EcEUa",
        "colab": {
          "base_uri": "https://localhost:8080/"
        },
        "outputId": "8900e386-3cf1-4fb0-a2ea-995d0ba70307"
      },
      "execution_count": null,
      "outputs": [
        {
          "output_type": "stream",
          "name": "stdout",
          "text": [
            "Ingresar numero A: 13\n",
            "Ingresar numero B: 23\n",
            "El numero 23 es mayor que 13\n"
          ]
        }
      ]
    },
    {
      "cell_type": "code",
      "source": [
        "#if-elif-else\n",
        "n=int(input(\"Ingresar numero A: \"))\n",
        "l=int(input(\"Ingresar numero B: \"))\n",
        "if n>l:\n",
        "  print(f\"El numero {n} es mayor que {l}\")\n",
        "elif n==l:\n",
        "   print(f\"El numero {n} es mayor que {l}\")\n",
        "else:\n",
        "   print(f\"El numero {l} es mayor que {n}\")"
      ],
      "metadata": {
        "id": "1liatYbugKWf",
        "colab": {
          "base_uri": "https://localhost:8080/"
        },
        "outputId": "c50d7513-4f6c-45d4-b114-a9b3260078e2"
      },
      "execution_count": null,
      "outputs": [
        {
          "output_type": "stream",
          "name": "stdout",
          "text": [
            "Ingresar numero A: 2444\n",
            "Ingresar numero B: 35555\n",
            "El numero 35555 es mayor que 2444\n"
          ]
        }
      ]
    }
  ]
}