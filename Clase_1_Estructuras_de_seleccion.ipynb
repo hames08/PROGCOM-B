{
  "cells": [
    {
      "cell_type": "markdown",
      "metadata": {
        "id": "view-in-github",
        "colab_type": "text"
      },
      "source": [
        "<a href=\"https://colab.research.google.com/github/hames08/PROGCOM-B/blob/main/Clase_1_Estructuras_de_seleccion.ipynb\" target=\"_parent\"><img src=\"https://colab.research.google.com/assets/colab-badge.svg\" alt=\"Open In Colab\"/></a>"
      ]
    },
    {
      "cell_type": "code",
      "execution_count": null,
      "metadata": {
        "id": "Pm3-fKYKLHJg"
      },
      "outputs": [],
      "source": []
    },
    {
      "cell_type": "markdown",
      "metadata": {
        "id": "bWDYjZhALeXX"
      },
      "source": [
        "#Estructuras de seleecion\n",
        "se emplean cuando quiero evaluar una condicion. el resultado de la evaluacion"
      ]
    },
    {
      "cell_type": "markdown",
      "metadata": {
        "id": "4J7uUbmxLwlH"
      },
      "source": [
        "#Estructura if-else\n",
        "\n",
        "```\n",
        "if (condicion):\n",
        "entro aqui, si la condicion dio v.\n",
        "else:\n",
        "entro aqui, si la condicion = F\n",
        "```\n",
        "\n"
      ]
    },
    {
      "cell_type": "markdown",
      "metadata": {
        "id": "3t9wh0YTMbHe"
      },
      "source": [
        "#7. Año bisiesto"
      ]
    },
    {
      "cell_type": "code",
      "execution_count": null,
      "metadata": {
        "colab": {
          "base_uri": "https://localhost:8080/"
        },
        "id": "-EWdWnywMkGZ",
        "outputId": "5443df77-eb74-4add-d1c7-60e393df1a72"
      },
      "outputs": [
        {
          "name": "stdout",
          "output_type": "stream",
          "text": [
            "Introduzca un año:90\n",
            "90 NO es un año bisiesto\n"
          ]
        }
      ],
      "source": [
        "#1. Es divisible entre 4\n",
        "#2. es divisible entre 400 pero no entre 100\n",
        "año=int(input(\"Introduzca un año:\"))\n",
        "if(año%4==0 and año%100!=0):\n",
        "  print(f\"{año} es un año bisiesto\")\n",
        "else:\n",
        " if año%400==0:\n",
        "  print(f\"{año} es un año bisiesto\")\n",
        " else:\n",
        "  print(f\"{año} NO es un año bisiesto\")"
      ]
    },
    {
      "cell_type": "markdown",
      "metadata": {
        "id": "URrNk43PO06F"
      },
      "source": [
        "##Estructura de decision multiple if-elif-else\n",
        "se emplea cuandp hay mas de una decision.\n",
        "\n",
        "```\n",
        "if (cond1):\n",
        "si cond1 es verdadero, entro aqui\n",
        "elif(cond2):\n",
        "si cond1 es falso, PERO cond2 es verdadero, entro aqui.\n",
        "elif(cond3)\n",
        "Si cond1 y cond2 son falsos, pero cond3 es verdadero, entro aqui\n",
        "else: si cond1 y cond2 y cond3 y cond n son falsas, entre aqui.\n",
        "```\n",
        "\n"
      ]
    },
    {
      "cell_type": "code",
      "execution_count": null,
      "metadata": {
        "colab": {
          "base_uri": "https://localhost:8080/"
        },
        "id": "scmvLVDoQHGD",
        "outputId": "eb4848ef-6894-46a6-e341-b81c01633e7d"
      },
      "outputs": [
        {
          "name": "stdout",
          "output_type": "stream",
          "text": [
            "90 NO es un año bisiesto\n"
          ]
        }
      ],
      "source": [
        "if(año%4==0 and año%100!=0): print(f\"{año} es un año bisiesto\")\n",
        "elif año%400==0: print(f\"{año} es un año bisiesto\")\n",
        "else:print(f\"{año} NO es un año bisiesto\")"
      ]
    },
    {
      "cell_type": "markdown",
      "metadata": {
        "id": "eodNKDANVHTb"
      },
      "source": [
        "##Operador terniario\n",
        "programar una estructura de seleccion en una\n",
        "sola linea de codigo\n",
        "\n",
        "```\n",
        "(lo que se dbe ejecutar, si la condicion es\n",
        " verdadera) if (condicion) else (lo que se\n",
        " debe ejecutar, si la condicion es falsa)\n",
        "```\n",
        "\n"
      ]
    },
    {
      "cell_type": "code",
      "execution_count": null,
      "metadata": {
        "colab": {
          "base_uri": "https://localhost:8080/"
        },
        "id": "MMMkMNv6U_nQ",
        "outputId": "c78604e1-ccbc-4e98-b410-604c234d8e94"
      },
      "outputs": [
        {
          "name": "stdout",
          "output_type": "stream",
          "text": [
            "90 NO es un año bisiesto\n"
          ]
        }
      ],
      "source": [
        "print(f\"{año} es un año bisiesto\") if (año%4==0 and año%100!=0) else (print(f\"{año} es un año bisiesto\")) if año%400==0 else print(f\"{año} NO es un año bisiesto\")"
      ]
    },
    {
      "cell_type": "markdown",
      "metadata": {
        "id": "PtDi4AVpSoXy"
      },
      "source": [
        "##ejercicios\n",
        "\n"
      ]
    },
    {
      "cell_type": "markdown",
      "metadata": {
        "id": "biFhQ5UTQx00"
      },
      "source": [
        "# 1.Escribe un programa que reciba un número e indique si es positivo."
      ]
    },
    {
      "cell_type": "code",
      "execution_count": null,
      "metadata": {
        "id": "YUDWXFRLLP5f"
      },
      "outputs": [],
      "source": [
        "#elif-else\n",
        "n=int(input(\"ingrese un numero:\"))\n",
        "if n>0:\n",
        "  print(\"el numero es positivo\")\n",
        "else:\n",
        "  print(\"el numero es negativo\")"
      ]
    },
    {
      "cell_type": "code",
      "execution_count": null,
      "metadata": {
        "colab": {
          "base_uri": "https://localhost:8080/"
        },
        "id": "PDQcICGqTPxK",
        "outputId": "2fe2ecb5-98db-4419-b85b-a78a60dc98f4"
      },
      "outputs": [
        {
          "name": "stdout",
          "output_type": "stream",
          "text": [
            "ingrese un numero:788\n",
            "el 788  es positivo\n"
          ]
        }
      ],
      "source": [
        "#if-elif-else\n",
        "n=int(input(\"ingrese un numero:\"))\n",
        "if n>0:\n",
        "  print(f\"el {n}  es positivo\")\n",
        "elif n==0:\n",
        "  print(f\"el {n}  es cero\")\n",
        "else:\n",
        "  print(f\"el {n} es negativo\")"
      ]
    },
    {
      "cell_type": "code",
      "execution_count": null,
      "metadata": {
        "colab": {
          "base_uri": "https://localhost:8080/"
        },
        "id": "-p4RGgZ5aXVW",
        "outputId": "97291dba-5873-4e9a-a1bd-c961710c31d2"
      },
      "outputs": [
        {
          "name": "stdout",
          "output_type": "stream",
          "text": [
            "ingrese un numero:45\n",
            "el 45  es positivo\n"
          ]
        }
      ],
      "source": [
        "n=int(input(\"ingrese un numero:\"))\n",
        "print(f\"el {n}  es positivo\") if (n>0) else print(f\"el {n} es negativo\")"
      ]
    },
    {
      "cell_type": "markdown",
      "metadata": {
        "id": "fZE-ojTkWzwQ"
      },
      "source": [
        "# 2.Escribe un programa que reciba una edad y determine si la persona es mayor de edad."
      ]
    },
    {
      "cell_type": "code",
      "execution_count": null,
      "metadata": {
        "colab": {
          "base_uri": "https://localhost:8080/"
        },
        "id": "hR1nkEBBW6X_",
        "outputId": "3d47b591-27ae-46cc-d227-0def1c430ea1"
      },
      "outputs": [
        {
          "name": "stdout",
          "output_type": "stream",
          "text": [
            "ingrese su edad:47\n",
            "usted es mayor de edad\n"
          ]
        }
      ],
      "source": [
        "#elif-else\n",
        "e=int(input(\"ingrese su edad:\"))\n",
        "if e>=18:\n",
        "  print(\"usted es mayor de edad\")\n",
        "else:\n",
        "  print(\"usted es menor de edad\")"
      ]
    },
    {
      "cell_type": "code",
      "execution_count": null,
      "metadata": {
        "colab": {
          "base_uri": "https://localhost:8080/"
        },
        "id": "iR371WL2XLdV",
        "outputId": "9b5eaa7c-fb13-436a-aa96-7bf3bbb7a44f"
      },
      "outputs": [
        {
          "name": "stdout",
          "output_type": "stream",
          "text": [
            "ingrese su edad:45\n",
            "usted es mayor de edad\n"
          ]
        }
      ],
      "source": [
        "#if-elif-else\n",
        "n=int(input(\"ingrese su edad:\"))\n",
        "if n>18:\n",
        "    print(\"usted es mayor de edad\")\n",
        "elif n==18:\n",
        "     print(\"usted es mayor de edad\")\n",
        "else:\n",
        "     print(\"usted es menor de edad\")"
      ]
    },
    {
      "cell_type": "code",
      "execution_count": null,
      "metadata": {
        "id": "nxVUdxNHcytK"
      },
      "outputs": [],
      "source": [
        "#Operador terniario\n",
        "n=int(input(\"Ingresar edad:\"))\n",
        "print(\"Usted es mayor de edad\") if (n>=18) else print(\"Usted es menor de edad\")"
      ]
    },
    {
      "cell_type": "markdown",
      "metadata": {
        "id": "zR22nAyhcElC"
      },
      "source": [
        "#3. Escribe un programa que reciba dos números e imprima el mayor."
      ]
    },
    {
      "cell_type": "code",
      "execution_count": null,
      "metadata": {
        "colab": {
          "base_uri": "https://localhost:8080/"
        },
        "id": "q-mMg_7EcEUa",
        "outputId": "8900e386-3cf1-4fb0-a2ea-995d0ba70307"
      },
      "outputs": [
        {
          "name": "stdout",
          "output_type": "stream",
          "text": [
            "Ingresar numero A: 13\n",
            "Ingresar numero B: 23\n",
            "El numero 23 es mayor que 13\n"
          ]
        }
      ],
      "source": [
        "#if-else\n",
        "n=int(input(\"Ingresar numero A: \"))\n",
        "l=int(input(\"Ingresar numero B: \"))\n",
        "if n>l:\n",
        "  print(f\"El numero {n} es mayor que {l}\")\n",
        "else:\n",
        "  print(f\"El numero {l} es mayor que {n}\")"
      ]
    },
    {
      "cell_type": "code",
      "execution_count": null,
      "metadata": {
        "colab": {
          "base_uri": "https://localhost:8080/"
        },
        "id": "1liatYbugKWf",
        "outputId": "c50d7513-4f6c-45d4-b114-a9b3260078e2"
      },
      "outputs": [
        {
          "name": "stdout",
          "output_type": "stream",
          "text": [
            "Ingresar numero A: 2444\n",
            "Ingresar numero B: 35555\n",
            "El numero 35555 es mayor que 2444\n"
          ]
        }
      ],
      "source": [
        "#if-elif-else\n",
        "n=int(input(\"Ingresar numero A: \"))\n",
        "l=int(input(\"Ingresar numero B: \"))\n",
        "if n>l:\n",
        "  print(f\"El numero {n} es mayor que {l}\")\n",
        "elif n==l:\n",
        "   print(f\"El numero {n} es mayor que {l}\")\n",
        "else:\n",
        "   print(f\"El numero {l} es mayor que {n}\")"
      ]
    },
    {
      "cell_type": "code",
      "execution_count": null,
      "metadata": {
        "colab": {
          "base_uri": "https://localhost:8080/"
        },
        "id": "px79eLusAU7u",
        "outputId": "1acec3cc-ce77-4f69-c388-f615386edd46"
      },
      "outputs": [
        {
          "name": "stdout",
          "output_type": "stream",
          "text": [
            "Ingresar numero A: 288\n",
            "Ingresar numero B: 366\n",
            "El numero 366 es mayor que 288\n"
          ]
        }
      ],
      "source": [
        "#Operador terniario\n",
        "n=int(input(\"Ingresar numero A: \"))\n",
        "l=int(input(\"Ingresar numero B: \"))\n",
        "print(f\"El numero {n} es mayor que {l}\") if (n>l) else print(f\"El numero {l} es mayor que {n}\")"
      ]
    },
    {
      "cell_type": "markdown",
      "metadata": {
        "id": "h-I_CIMDB4BF"
      },
      "source": [
        "#4. Escribe un programa que reciba una calificación (0-100) e indique si es Aprobado (>=60) o Reprobado."
      ]
    },
    {
      "cell_type": "code",
      "execution_count": null,
      "metadata": {
        "colab": {
          "base_uri": "https://localhost:8080/"
        },
        "id": "ZTmDoMZiA-3o",
        "outputId": "00351072-dcc8-463f-8f56-2b35ebf62364"
      },
      "outputs": [
        {
          "name": "stdout",
          "output_type": "stream",
          "text": [
            "INGRESE SU CALIFICACION:59\n",
            "REPROBADO\n"
          ]
        }
      ],
      "source": [
        "#if-else\n",
        "n=int(input(\"INGRESE SU CALIFICACION:\"))\n",
        "if n>= 60:\n",
        "  print(\"APROBADO\")\n",
        "else:\n",
        "  print(\"REPROBADO\")\n"
      ]
    },
    {
      "cell_type": "code",
      "execution_count": null,
      "metadata": {
        "colab": {
          "base_uri": "https://localhost:8080/"
        },
        "id": "lSaF1fXCCiap",
        "outputId": "93c5648c-f9d6-43ac-eb59-b7619bd2908c"
      },
      "outputs": [
        {
          "name": "stdout",
          "output_type": "stream",
          "text": [
            "INGRESE SU CALIFICACION:80\n",
            "APROBADO\n"
          ]
        }
      ],
      "source": [
        "#if-elif-else\n",
        "n=int(input(\"INGRESE SU CALIFICACION:\"))\n",
        "if n>= 60:\n",
        "  print(\"APROBADO\")\n",
        "elif n==60:\n",
        "  print(\"APROBADO\")\n",
        "else:\n",
        "  print(\"REPROBADO\")"
      ]
    },
    {
      "cell_type": "code",
      "execution_count": null,
      "metadata": {
        "colab": {
          "base_uri": "https://localhost:8080/"
        },
        "id": "poiK1N6VC791",
        "outputId": "8fc556b9-bf05-4d6c-cc57-4ce47e09a2f2"
      },
      "outputs": [
        {
          "name": "stdout",
          "output_type": "stream",
          "text": [
            "INGRESE SU CALIFICACION:3\n",
            "REPROBADO\n"
          ]
        }
      ],
      "source": [
        "#Operador terniario\n",
        "n=int(input(\"INGRESE SU CALIFICACION:\"))\n",
        "print(\"APROBADO\") if (n>=60) else print(\"REPROBADO\")"
      ]
    },
    {
      "cell_type": "markdown",
      "metadata": {
        "id": "tNF7S52PEAcK"
      },
      "source": [
        "#5. Escribe un programa que determine si un número es par o impar."
      ]
    },
    {
      "cell_type": "code",
      "execution_count": null,
      "metadata": {
        "colab": {
          "base_uri": "https://localhost:8080/"
        },
        "id": "l_ivCiiUEQTL",
        "outputId": "01eac604-f94a-4bd0-ee3c-fc29687b89b9"
      },
      "outputs": [
        {
          "name": "stdout",
          "output_type": "stream",
          "text": [
            "INGRESE UN NUMERO:23\n",
            "EL NUMERO 23 ES IMPAR\n"
          ]
        }
      ],
      "source": [
        "#if-else\n",
        "n=int(input(\"INGRESE UN NUMERO:\"))\n",
        "if n%2 == 0:\n",
        "  print(f\"EL NUMERO {n} ES PAR\")\n",
        "else:\n",
        "  print(f\"EL NUMERO {n} ES IMPAR\")"
      ]
    },
    {
      "cell_type": "code",
      "execution_count": null,
      "metadata": {
        "colab": {
          "base_uri": "https://localhost:8080/"
        },
        "id": "VnE64ThqE-rk",
        "outputId": "8b869147-dc45-4883-eb9e-3a029d129246"
      },
      "outputs": [
        {
          "name": "stdout",
          "output_type": "stream",
          "text": [
            "INGRESE UN NUMERO:09\n",
            "EL NUMERO 9 ES IMPAR\n"
          ]
        }
      ],
      "source": [
        "#if-elif-else\n",
        "n=int(input(\"INGRESE UN NUMERO:\"))\n",
        "if n== 0:\n",
        " print(f\"EL NUMERO ES CERO\")\n",
        "elif n%2 == 0:\n",
        "  print(f\"EL NUMERO {n} ES PAR\")\n",
        "else:\n",
        "  print(f\"EL NUMERO {n} ES IMPAR\")"
      ]
    },
    {
      "cell_type": "code",
      "execution_count": null,
      "metadata": {
        "id": "vUO11gc1GYFg"
      },
      "outputs": [],
      "source": [
        "#Operador terniario\n",
        "n=int(input(\"INGRESE UN NUMERO:\"))\n",
        "print(f\"EL NUMERO {n} ES PAR\") if (n%2==0) else print(f\"EL NUMERO {n} ES IMPAR\")"
      ]
    },
    {
      "cell_type": "markdown",
      "metadata": {
        "id": "xOPs3mxoG6UN"
      },
      "source": [
        "#6. Escribe un programa que reciba tres números e imprima el mayor de los tres."
      ]
    },
    {
      "cell_type": "code",
      "execution_count": null,
      "metadata": {
        "colab": {
          "base_uri": "https://localhost:8080/"
        },
        "id": "Qlg0T_tLHBKR",
        "outputId": "e9f8acff-db24-473b-b48f-74ff23198fef"
      },
      "outputs": [
        {
          "name": "stdout",
          "output_type": "stream",
          "text": [
            "ingrese el numero a:1\n",
            "ingrese el numero b:2\n",
            "ingrese el numero c:3\n",
            "EL NUMERO 3 ES MAYOR\n"
          ]
        }
      ],
      "source": [
        "#if-else\n",
        "a=int(input(\"ingrese el numero a:\"))\n",
        "b=int(input(\"ingrese el numero b:\"))\n",
        "c=int(input(\"ingrese el numero c:\"))\n",
        "m=a\n",
        "if b>m:\n",
        "  m=c\n",
        "if c>m:\n",
        "  m=c\n",
        "if m==a:\n",
        "   print(f\"EL NUMERO {a} ES MAYOR\")\n",
        "else:\n",
        "  if m==b:\n",
        "   print(f\"EL NUMERO {b} ES MAYOR\")\n",
        "  else:\n",
        "    print(f\"EL NUMERO {c} ES MAYOR\")"
      ]
    },
    {
      "cell_type": "code",
      "execution_count": null,
      "metadata": {
        "colab": {
          "base_uri": "https://localhost:8080/"
        },
        "id": "7P2CuCfjKxmZ",
        "outputId": "2541cbe0-eb1f-48e1-c437-e6388fb15eef"
      },
      "outputs": [
        {
          "name": "stdout",
          "output_type": "stream",
          "text": [
            "ingrese el numero a:25\n",
            "ingrese el numero b:26\n",
            "ingrese el numero c:27\n",
            "EL NUMERO 27 ES MAYOR\n"
          ]
        }
      ],
      "source": [
        "#if-elif-else\n",
        "a=int(input(\"ingrese el numero a:\"))\n",
        "b=int(input(\"ingrese el numero b:\"))\n",
        "c=int(input(\"ingrese el numero c:\"))\n",
        "if a>=b and a>=c:\n",
        "  m=a\n",
        "elif b>=c:\n",
        "  m=b\n",
        "else:\n",
        "  m=c\n",
        "  print(f\"EL NUMERO {m} ES MAYOR\")"
      ]
    },
    {
      "cell_type": "code",
      "execution_count": null,
      "metadata": {
        "colab": {
          "base_uri": "https://localhost:8080/"
        },
        "id": "ykn2QxZRLrDc",
        "outputId": "75abf7e9-8add-4fca-8739-8b681c601f00"
      },
      "outputs": [
        {
          "name": "stdout",
          "output_type": "stream",
          "text": [
            "ingrese el numero a:1\n",
            "ingrese el numero b:2\n",
            "ingrese el numero c:3\n",
            "EL NUMERO 3 ES MAYOR\n"
          ]
        }
      ],
      "source": [
        "#Operador terniario\n",
        "a=int(input(\"ingrese el numero a:\"))\n",
        "b=int(input(\"ingrese el numero b:\"))\n",
        "c=int(input(\"ingrese el numero c:\"))\n",
        "m=a if (a>=b and a>=c) else (b if b>= c else c)\n",
        "print(f\"EL NUMERO {m} ES MAYOR\")"
      ]
    },
    {
      "cell_type": "markdown",
      "metadata": {
        "id": "Yzje8qbmTBoi"
      },
      "source": [
        "#7. Escribe un programa que reciba un año e indique si es bisiesto."
      ]
    },
    {
      "cell_type": "code",
      "execution_count": null,
      "metadata": {
        "colab": {
          "base_uri": "https://localhost:8080/"
        },
        "id": "yTKTNhkbTP9z",
        "outputId": "75a3efd3-bbf6-4b4f-bf98-b902b436bf7c"
      },
      "outputs": [
        {
          "name": "stdout",
          "output_type": "stream",
          "text": [
            "Introduzca un año:2025\n",
            "2025 NO es un año bisiesto\n"
          ]
        }
      ],
      "source": [
        "#if-else\n",
        "año=int(input(\"Introduzca un año:\"))\n",
        "if(año%4==0 and año%100!=0):\n",
        "  print(f\"{año} es un año bisiesto\")\n",
        "else:\n",
        " if año%400==0:\n",
        "  print(f\"{año} es un año bisiesto\")\n",
        " else:\n",
        "  print(f\"{año} NO es un año bisiesto\")"
      ]
    },
    {
      "cell_type": "code",
      "execution_count": null,
      "metadata": {
        "colab": {
          "base_uri": "https://localhost:8080/"
        },
        "id": "oiF-mcquTusJ",
        "outputId": "f3f65ecc-07f8-482e-de71-4f88e5474674"
      },
      "outputs": [
        {
          "name": "stdout",
          "output_type": "stream",
          "text": [
            "2025 NO es un año bisiesto\n"
          ]
        }
      ],
      "source": [
        "#if-elif-else\n",
        "if(año%4==0 and año%100!=0): print(f\"{año} es un año bisiesto\")\n",
        "elif año%400==0: print(f\"{año} es un año bisiesto\")\n",
        "else:print(f\"{año} NO es un año bisiesto\")"
      ]
    },
    {
      "cell_type": "code",
      "execution_count": null,
      "metadata": {
        "colab": {
          "base_uri": "https://localhost:8080/"
        },
        "id": "xetR3FCwTvsf",
        "outputId": "89d82c88-374c-4da6-c6f1-3d287c9dac82"
      },
      "outputs": [
        {
          "name": "stdout",
          "output_type": "stream",
          "text": [
            "2025 NO es un año bisiesto\n"
          ]
        }
      ],
      "source": [
        "#Operador terniario\n",
        "print(f\"{año} es un año bisiesto\") if (año%4==0 and año%100!=0) else (print(f\"{año} es un año bisiesto\")) if año%400==0 else print(f\"{año} NO es un año bisiesto\")"
      ]
    },
    {
      "cell_type": "markdown",
      "metadata": {
        "id": "VoPb5Xm2VKDr"
      },
      "source": [
        "#8. Escribe un programa que reciba una contraseña e indique si cumple con las siguientes reglas: más de 8 caracteres, contiene al menos un número y una letra mayúscula.\n"
      ]
    },
    {
      "cell_type": "code",
      "execution_count": 60,
      "metadata": {
        "colab": {
          "base_uri": "https://localhost:8080/"
        },
        "id": "f2cae913",
        "outputId": "f59f1808-c9eb-4b29-dc4b-5ee26c27e4f4"
      },
      "outputs": [
        {
          "output_type": "stream",
          "name": "stdout",
          "text": [
            "Contraseña: Hamesyfiorella08\n",
            "Contraseña valida\n"
          ]
        }
      ],
      "source": [
        "#if-else\n",
        "h = input(\"Contraseña: \")\n",
        "if len(h) < 8:\n",
        "    print(\"Contraseña muy corta\")\n",
        "else:\n",
        "    if not any(c.isdigit() for c in h):\n",
        "        print(\"Falta que tenga uno o más números\")\n",
        "    else:\n",
        "        if not any(c.isupper() for c in h):\n",
        "            print(\"Faltan mayúsculas\")\n",
        "        else:\n",
        "            print(\"Contraseña valida\")"
      ]
    },
    {
      "cell_type": "code",
      "source": [
        "#if-elif-else\n",
        "h = input(\"Contraseña: \")\n",
        "if len(h) < 8:\n",
        "    print(\"Contraseña muy corta\")\n",
        "elif not any(c.isdigit() for c in h):\n",
        "    print(\"Falta que tenga uno o más números\")\n",
        "elif not any(c.isupper() for c in h):\n",
        "    print(\"Faltan mayúsculas\")\n",
        "else:\n",
        "    print(\"Contraseña valida\")"
      ],
      "metadata": {
        "colab": {
          "base_uri": "https://localhost:8080/"
        },
        "id": "MLMDHducbJxj",
        "outputId": "8ac1ec80-8d4e-411f-f307-239bd70681fb"
      },
      "execution_count": 62,
      "outputs": [
        {
          "output_type": "stream",
          "name": "stdout",
          "text": [
            "Contraseña: Hamesfiorella08\n",
            "Contraseña valida\n"
          ]
        }
      ]
    },
    {
      "cell_type": "code",
      "source": [
        "#Operador terniario\n",
        "h = input(\"Contraseña: \")\n",
        "print(\"Contraseña valida\" if len(h) >= 8 and any(c.isdigit() for c in h) and any(c.isupper() for c in h) else \"Contraseña muy corta\" if len(h) < 8 else \"Falta que tenga uno o más números\" if not any(c.isdigit() for c in h) else \"Faltan mayúsculas\")\n",
        ""
      ],
      "metadata": {
        "colab": {
          "base_uri": "https://localhost:8080/"
        },
        "id": "IX7NUhD3bQzy",
        "outputId": "e9f5468b-bcf9-4080-a2c6-12ba01218cde"
      },
      "execution_count": 64,
      "outputs": [
        {
          "output_type": "stream",
          "name": "stdout",
          "text": [
            "Contraseña: Hamesfiorella08\n",
            "Contraseña valida\n"
          ]
        }
      ]
    },
    {
      "cell_type": "markdown",
      "source": [],
      "metadata": {
        "id": "yhLeiUNadG_Q"
      }
    },
    {
      "cell_type": "markdown",
      "source": [
        "#9 Escribe un programa que lea un número e imprima “Fizz” si es divisible por 3, “Buzz” si es divisible por 5 y “FizzBuzz” si es divisible por ambos."
      ],
      "metadata": {
        "id": "PFx7Vi6TbU4U"
      }
    },
    {
      "cell_type": "code",
      "source": [
        "#if-else\n",
        "h=int(input(\"Ingrese un número: \"))\n",
        "if h%3== 0 and h%5==0:\n",
        "    print(\"FizzBuzz\")\n",
        "else:\n",
        "    if h%3==0:\n",
        "        print(\"Fizz\")\n",
        "    else:\n",
        "        if h%5==0:\n",
        "            print(\"Buzz\")\n",
        "        else:\n",
        "            print(h)\n",
        ""
      ],
      "metadata": {
        "colab": {
          "base_uri": "https://localhost:8080/"
        },
        "id": "dw-2ooHNbjSq",
        "outputId": "6a095ed8-1967-4d07-ee0a-8ef568b98f20"
      },
      "execution_count": 66,
      "outputs": [
        {
          "output_type": "stream",
          "name": "stdout",
          "text": [
            "Ingrese un número: 15\n",
            "FizzBuzz\n"
          ]
        }
      ]
    },
    {
      "cell_type": "code",
      "source": [
        "#if-elif-else\n",
        "h=int(input(\"Ingrese un número: \"))\n",
        "if h%3==0 and h%5==0:\n",
        "    print(\"FizzBuzz\")\n",
        "elif h%3==0:\n",
        "    print(\"Fizz\")\n",
        "elif h%5==0:\n",
        "    print(\"Buzz\")\n",
        "else:\n",
        "    print(h)\n",
        ""
      ],
      "metadata": {
        "colab": {
          "base_uri": "https://localhost:8080/"
        },
        "id": "FHodq2xEbnAx",
        "outputId": "734ce42a-e993-4dc9-b6d3-d1f7c4e94dcf"
      },
      "execution_count": 68,
      "outputs": [
        {
          "output_type": "stream",
          "name": "stdout",
          "text": [
            "Ingrese un número: 3\n",
            "Fizz\n"
          ]
        }
      ]
    },
    {
      "cell_type": "code",
      "source": [
        "#Operador terniario\n",
        "print(\"FizzBuzz\" if (h := int(input(\"Número: \"))) % 15 == 0 else \"Fizz\" if h % 3 == 0 else \"Buzz\" if h % 5 == 0 else h)\n",
        ""
      ],
      "metadata": {
        "colab": {
          "base_uri": "https://localhost:8080/"
        },
        "id": "xl2J8Z8pbpyi",
        "outputId": "a9da261a-a1b3-4032-94cd-7718418c9b3e"
      },
      "execution_count": 70,
      "outputs": [
        {
          "output_type": "stream",
          "name": "stdout",
          "text": [
            "Número: 5\n",
            "Buzz\n"
          ]
        }
      ]
    },
    {
      "cell_type": "markdown",
      "source": [
        "#10. Escribe un programa que simule un cajero automático: recibe el monto a retirar e imprime si la operación es posible en base al saldo disponible."
      ],
      "metadata": {
        "id": "V8t5p0h3btB6"
      }
    },
    {
      "cell_type": "code",
      "source": [
        "#if-else\n",
        "s=6000000 #saldo del cuenta\n",
        "d=int(input(\"Ingrese el dinero para retirar: $\"))\n",
        "if d<=0:\n",
        "    print(\"Error: El monto debe ser mayor que $0\")\n",
        "else:\n",
        "    if d>s:\n",
        "        print(\"Error: Fondos insuficientes\")\n",
        "    else:\n",
        "        s=s-d\n",
        "        print(f\"Retiro exitoso, Saldo en la cuenta: ${s}\")"
      ],
      "metadata": {
        "colab": {
          "base_uri": "https://localhost:8080/"
        },
        "id": "cfFh8PnDb3JC",
        "outputId": "a6078e76-bc87-4360-fb31-befe597bedf8"
      },
      "execution_count": 71,
      "outputs": [
        {
          "output_type": "stream",
          "name": "stdout",
          "text": [
            "Ingrese el dinero para retirar: $100000\n",
            "Retiro exitoso, Saldo en la cuenta: $5900000\n"
          ]
        }
      ]
    },
    {
      "cell_type": "code",
      "source": [
        "#if-elif-else\n",
        "s=6000000 #saldo de la cuenta\n",
        "d=int(input(\"Ingrese el dinero para retirar: $\"))\n",
        "\n",
        "if d<=0:\n",
        "    print(\"Error: El monto debe ser mayor que $0\")\n",
        "elif d>s:\n",
        "    print(\"Error: Fondos insuficientes\")\n",
        "else:\n",
        "    s-=d\n",
        "    print(f\"Retiro exitoso, Saldo en la cuenta: ${s}\")\n",
        ""
      ],
      "metadata": {
        "colab": {
          "base_uri": "https://localhost:8080/"
        },
        "id": "lHfqM3G5b7DJ",
        "outputId": "69b59ef9-d226-4aa4-9d76-285de3e17616"
      },
      "execution_count": 77,
      "outputs": [
        {
          "output_type": "stream",
          "name": "stdout",
          "text": [
            "Ingrese el dinero para retirar: $100000\n",
            "Retiro exitoso, Saldo en la cuenta: $5900000\n"
          ]
        }
      ]
    },
    {
      "cell_type": "code",
      "source": [
        "#Operador terniario\n",
        "s = 6000000; d = int(input(\"Ingrese el dinero para retirar: $\")); print(\"Error: El monto debe ser mayor que $0\" if d <= 0 else \"Error: Fondos insuficientes\" if d > s else f\"Retiro exitoso, Saldo en la cuenta: ${s - d}\")\n",
        ""
      ],
      "metadata": {
        "colab": {
          "base_uri": "https://localhost:8080/"
        },
        "id": "Eg3ZNnI2b-_i",
        "outputId": "54512ccd-f0f9-4b9b-baca-3b0b427b06ec"
      },
      "execution_count": 78,
      "outputs": [
        {
          "output_type": "stream",
          "name": "stdout",
          "text": [
            "Ingrese el dinero para retirar: $6000000\n",
            "Retiro exitoso, Saldo en la cuenta: $0\n"
          ]
        }
      ]
    }
  ],
  "metadata": {
    "colab": {
      "provenance": [],
      "authorship_tag": "ABX9TyNy2w+UXPm5BILT4lOG6ED2",
      "include_colab_link": true
    },
    "kernelspec": {
      "display_name": "Python 3",
      "name": "python3"
    },
    "language_info": {
      "name": "python"
    }
  },
  "nbformat": 4,
  "nbformat_minor": 0
}