{
  "nbformat": 4,
  "nbformat_minor": 0,
  "metadata": {
    "colab": {
      "provenance": []
    },
    "kernelspec": {
      "name": "python3",
      "display_name": "Python 3"
    },
    "language_info": {
      "name": "python"
    }
  },
  "cells": [
    {
      "cell_type": "markdown",
      "source": [
        "##1. Escribe un programa que reciba un número e indique si es positivo."
      ],
      "metadata": {
        "id": "G7OBfd4IqYOr"
      }
    },
    {
      "cell_type": "code",
      "source": [
        "n=int(input(\"ingrese un numero:\"))\n",
        "if n>0:\n",
        "  print(\"el numero es positivo\")\n",
        "if n<0:\n",
        "  print(\"el numero es negativo\")"
      ],
      "metadata": {
        "colab": {
          "base_uri": "https://localhost:8080/"
        },
        "id": "4l7Cz9GsrmFB",
        "outputId": "d6e4e60a-c362-42cb-95c3-84fa2559bbfa"
      },
      "execution_count": 8,
      "outputs": [
        {
          "output_type": "stream",
          "name": "stdout",
          "text": [
            "ingrese un numero:8\n",
            "el numero es positivo\n"
          ]
        }
      ]
    },
    {
      "cell_type": "markdown",
      "source": [
        "##2. Escribe un programa que reciba una edad y determine si la persona es mayor de edad."
      ],
      "metadata": {
        "id": "QiaBpseVtkb4"
      }
    },
    {
      "cell_type": "code",
      "source": [
        "n=int(input(\"ingrese su edad:\"))\n",
        "if e>=18:\n",
        "  print(\"usted es mayor de edad\")\n",
        "if e<18:\n",
        "  print(\"usted es menor de edad\")"
      ],
      "metadata": {
        "colab": {
          "base_uri": "https://localhost:8080/"
        },
        "id": "_yWS4V4xtr5o",
        "outputId": "eb51f36d-4232-43df-b27f-a2cdf25a9709"
      },
      "execution_count": 10,
      "outputs": [
        {
          "output_type": "stream",
          "name": "stdout",
          "text": [
            "ingrese su edad:34\n",
            "usted es mayor de edad\n"
          ]
        }
      ]
    },
    {
      "cell_type": "markdown",
      "source": [
        "##3. Escribe un programa que reciba dos números e imprima el mayor."
      ],
      "metadata": {
        "id": "mGlaZzjDuEvY"
      }
    },
    {
      "cell_type": "code",
      "execution_count": 14,
      "metadata": {
        "colab": {
          "base_uri": "https://localhost:8080/"
        },
        "id": "Qxz1FT1doATK",
        "outputId": "c73b1521-3c42-4565-ce3e-5ad1b0ad839d"
      },
      "outputs": [
        {
          "output_type": "stream",
          "name": "stdout",
          "text": [
            "ingrese el numero a:13\n",
            "ingrese el numero b:78\n",
            "el numero b es mayor\n"
          ]
        }
      ],
      "source": [
        "a=int(input(\"ingrese el numero a:\"))\n",
        "b=int(input(\"ingrese el numero b:\"))\n",
        "if a>b:\n",
        "  print(\"El numero a es mayor\")\n",
        "elif a<b:\n",
        "  print(\"el numero b es mayor\")\n"
      ]
    },
    {
      "cell_type": "markdown",
      "source": [
        "##4. Escribe un programa que reciba una calificación (0-100) e indique si es Aprobado (&gt;=60) o Reprobado."
      ],
      "metadata": {
        "id": "pDtrngXQv-hO"
      }
    },
    {
      "cell_type": "code",
      "source": [
        "n=int(input(\"INGRESE SU CALIFICACION:\"))\n",
        "if n>= 60:\n",
        "  print(\"APROBADO\")\n",
        "elif n<60:\n",
        "  print(\"REPROBADO\")\n"
      ],
      "metadata": {
        "colab": {
          "base_uri": "https://localhost:8080/"
        },
        "id": "_tQUJPP1v-MP",
        "outputId": "274b877d-bd24-4049-b3fe-8b07335aa4aa"
      },
      "execution_count": 18,
      "outputs": [
        {
          "output_type": "stream",
          "name": "stdout",
          "text": [
            "INGRESE SU CALIFICACION:59\n",
            "REPROBADO\n"
          ]
        }
      ]
    },
    {
      "cell_type": "markdown",
      "source": [
        "##5. Escribe un programa que determine si un número es par o impar."
      ],
      "metadata": {
        "id": "XCCT0GDPw5bN"
      }
    },
    {
      "cell_type": "code",
      "source": [
        "n=int(input(\"INGRESE UN NUMERO:\"))\n",
        "if n % 2 == 0:\n",
        "  print(\"TU NUMERO ES PAR\")\n",
        "else:\n",
        "  print(\"TU NUMERO ES IMPAR\")\n",
        ""
      ],
      "metadata": {
        "colab": {
          "base_uri": "https://localhost:8080/"
        },
        "id": "iVCQsmgexDat",
        "outputId": "20eddccf-4303-427d-b658-3ab25295710d"
      },
      "execution_count": 23,
      "outputs": [
        {
          "output_type": "stream",
          "name": "stdout",
          "text": [
            "INGRESE UN NUMERO:4556\n",
            "TU NUMERO ES PAR\n"
          ]
        }
      ]
    },
    {
      "cell_type": "markdown",
      "source": [
        "##6. Escribe un programa que reciba tres números e imprima el mayor de los tres."
      ],
      "metadata": {
        "id": "EwzrLY4qy1OL"
      }
    },
    {
      "cell_type": "code",
      "source": [
        "a=int(input(\"ingrese el numero a:\"))\n",
        "b=int(input(\"ingrese el numero b:\"))\n",
        "c=int(input(\"ingrese el numero c:\"))\n",
        "if a> b:\n",
        "  print(\"EL NUMERO a ES MAYOR\")\n",
        "elif b> c:\n",
        "  print(\"EL NUMERO b ES MAYOR\")\n",
        "elif c> a:\n",
        "  print(\"EL NUMERO c ES MAYOR\")\n"
      ],
      "metadata": {
        "colab": {
          "base_uri": "https://localhost:8080/"
        },
        "id": "tBrLrqYWy0-c",
        "outputId": "cbfc7c92-b547-4db7-fcc7-d7e1af3b33a6"
      },
      "execution_count": 29,
      "outputs": [
        {
          "output_type": "stream",
          "name": "stdout",
          "text": [
            "ingrese el numero a:234\n",
            "ingrese el numero b:322354\n",
            "ingrese el numero c:3255\n",
            "EL NUMERO b ES MAYOR\n"
          ]
        }
      ]
    },
    {
      "cell_type": "markdown",
      "source": [
        "##7. Escribe un programa que reciba un año e indique si es bisiesto."
      ],
      "metadata": {
        "id": "M73FUWJJ0n6a"
      }
    },
    {
      "cell_type": "code",
      "source": [
        "a=int(input(\"INGRESA EL AÑO:\"))\n",
        "if a % 4 == 0:\n",
        "  print(\"EL AÑO ES BISIESTO\")\n",
        "else:\n",
        "  print(\"EL AÑO NO ES BISIESTO\")\n",
        ""
      ],
      "metadata": {
        "colab": {
          "base_uri": "https://localhost:8080/"
        },
        "id": "ciH0qQys0uRa",
        "outputId": "4dbc56d4-3a6a-4377-b5f8-f94f8bf894a2"
      },
      "execution_count": 30,
      "outputs": [
        {
          "output_type": "stream",
          "name": "stdout",
          "text": [
            "INGRESA EL AÑO:2024\n",
            "EL AÑO ES BISIESTO\n"
          ]
        }
      ]
    },
    {
      "cell_type": "markdown",
      "source": [
        "##8. Escribe un programa que reciba una contraseña e indique si cumple con las siguientes reglas: más de 8 caracteres, contiene al menos un número y una letra mayúscula."
      ],
      "metadata": {
        "id": "Szq4I4zg2weI"
      }
    },
    {
      "cell_type": "code",
      "source": [],
      "metadata": {
        "id": "ZlNSdBK_25JQ"
      },
      "execution_count": null,
      "outputs": []
    }
  ]
}