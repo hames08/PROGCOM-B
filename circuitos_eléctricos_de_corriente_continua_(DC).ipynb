{
  "nbformat": 4,
  "nbformat_minor": 0,
  "metadata": {
    "colab": {
      "provenance": [],
      "authorship_tag": "ABX9TyOjtQrHkNrIG+BXM14KR1/k",
      "include_colab_link": true
    },
    "kernelspec": {
      "name": "python3",
      "display_name": "Python 3"
    },
    "language_info": {
      "name": "python"
    }
  },
  "cells": [
    {
      "cell_type": "markdown",
      "metadata": {
        "id": "view-in-github",
        "colab_type": "text"
      },
      "source": [
        "<a href=\"https://colab.research.google.com/github/hames08/PROGCOM-B/blob/main/circuitos_el%C3%A9ctricos_de_corriente_continua_(DC).ipynb\" target=\"_parent\"><img src=\"https://colab.research.google.com/assets/colab-badge.svg\" alt=\"Open In Colab\"/></a>"
      ]
    },
    {
      "cell_type": "code",
      "execution_count": 2,
      "metadata": {
        "colab": {
          "base_uri": "https://localhost:8080/"
        },
        "id": "fsfazEa0j42A",
        "outputId": "fef1db15-1457-47be-98b3-b7b4382c364c"
      },
      "outputs": [
        {
          "output_type": "stream",
          "name": "stdout",
          "text": [
            "===== Análisis de Circuito en Paralelo =====\n",
            "Estructura: Rama superior con R1 - (R2||R3) - R4, y rama inferior con R5 - R6\n",
            "Fuente de voltaje aplicada: Vs\n",
            "\n",
            "Ingrese el voltaje de la fuente (V): 10\n",
            "Ingrese R1 (ohm): 4.7\n",
            "Ingrese R2 (ohm): 9.1\n",
            "Ingrese R3 (ohm): 4.7\n",
            "Ingrese R4 (ohm): 2.2\n",
            "Ingrese R5 (ohm): 10\n",
            "Ingrese R6 (ohm): 12\n",
            "\n",
            "=== Representación del Circuito ===\n",
            "   Vs=10.0V\n",
            "      ┌───R1───┬───R2───┐───R4───┐\n",
            "      │        │        │        │\n",
            "      │        └───R3───┘        │\n",
            "      │                         │\n",
            "      └─────R5─────R6───────────┘\n",
            "\n",
            "=== Resultados ===\n",
            "Resistencia equivalente de (R2||R3): 3.0993 Ω\n",
            "Resistencia rama superior: 9.9993 Ω\n",
            "Resistencia rama inferior: 22.0000 Ω\n",
            "Resistencia equivalente total: 6.8747 Ω\n",
            "\n",
            "Corriente total: 1.4546 A\n",
            "Corriente rama superior: 1.0001 A\n",
            "Corriente rama inferior: 0.4545 A\n",
            "\n",
            "Tensión en paralelo (R2||R3): 3.0995 V\n",
            "Corriente en R2: 0.3406 A\n",
            "Corriente en R3: 0.6595 A\n",
            "Comprobación: I_R2 + I_R3 = 1.0001 A (≈ I_top)\n",
            "\n"
          ]
        }
      ],
      "source": [
        "def paralelo(*resistencias):\n",
        "    \"\"\"Calcula la resistencia equivalente en paralelo\"\"\"\n",
        "    return 1 / sum(1/r for r in resistencias)\n",
        "\n",
        "def main():\n",
        "    print(\"===== Análisis de Circuito en Paralelo =====\")\n",
        "    print(\"Estructura: Rama superior con R1 - (R2||R3) - R4, y rama inferior con R5 - R6\")\n",
        "    print(\"Fuente de voltaje aplicada: Vs\")\n",
        "    print()\n",
        "\n",
        "    # Entrada de datos\n",
        "    V = float(input(\"Ingrese el voltaje de la fuente (V): \"))\n",
        "    R1 = float(input(\"Ingrese R1 (ohm): \"))\n",
        "    R2 = float(input(\"Ingrese R2 (ohm): \"))\n",
        "    R3 = float(input(\"Ingrese R3 (ohm): \"))\n",
        "    R4 = float(input(\"Ingrese R4 (ohm): \"))\n",
        "    R5 = float(input(\"Ingrese R5 (ohm): \"))\n",
        "    R6 = float(input(\"Ingrese R6 (ohm): \"))\n",
        "    print()\n",
        "\n",
        "    # Calculos\n",
        "    R_par = paralelo(R2, R3)\n",
        "    R_top = R1 + R_par + R4\n",
        "    R_bottom = R5 + R6\n",
        "    R_eq = paralelo(R_top, R_bottom)\n",
        "\n",
        "    I_total = V / R_eq\n",
        "    I_top = V / R_top\n",
        "    I_bottom = V / R_bottom\n",
        "\n",
        "    V_par = I_top * R_par\n",
        "    I_R2 = V_par / R2\n",
        "    I_R3 = V_par / R3\n",
        "\n",
        "    # Mostrar el circuito en ASCII\n",
        "    print(\"=== Representación del Circuito ===\")\n",
        "    print(f\"   Vs={V:.1f}V\")\n",
        "    print(\"      ┌───R1───┬───R2───┐───R4───┐\")\n",
        "    print(\"      │        │        │        │\")\n",
        "    print(\"      │        └───R3───┘        │\")\n",
        "    print(\"      │                         │\")\n",
        "    print(\"      └─────R5─────R6───────────┘\")\n",
        "    print()\n",
        "\n",
        "    # Resultados\n",
        "    print(\"=== Resultados ===\")\n",
        "    print(f\"Resistencia equivalente de (R2||R3): {R_par:.4f} Ω\")\n",
        "    print(f\"Resistencia rama superior: {R_top:.4f} Ω\")\n",
        "    print(f\"Resistencia rama inferior: {R_bottom:.4f} Ω\")\n",
        "    print(f\"Resistencia equivalente total: {R_eq:.4f} Ω\\n\")\n",
        "\n",
        "    print(f\"Corriente total: {I_total:.4f} A\")\n",
        "    print(f\"Corriente rama superior: {I_top:.4f} A\")\n",
        "    print(f\"Corriente rama inferior: {I_bottom:.4f} A\\n\")\n",
        "\n",
        "    print(f\"Tensión en paralelo (R2||R3): {V_par:.4f} V\")\n",
        "    print(f\"Corriente en R2: {I_R2:.4f} A\")\n",
        "    print(f\"Corriente en R3: {I_R3:.4f} A\")\n",
        "    print(f\"Comprobación: I_R2 + I_R3 = {I_R2+I_R3:.4f} A (≈ I_top)\\n\")\n",
        "\n",
        "if __name__ == \"__main__\":\n",
        "    main()\n"
      ]
    }
  ]
}