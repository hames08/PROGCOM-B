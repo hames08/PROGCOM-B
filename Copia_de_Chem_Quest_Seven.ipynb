{
  "nbformat": 4,
  "nbformat_minor": 0,
  "metadata": {
    "colab": {
      "provenance": [],
      "include_colab_link": true
    },
    "kernelspec": {
      "name": "python3",
      "display_name": "Python 3"
    },
    "language_info": {
      "name": "python"
    }
  },
  "cells": [
    {
      "cell_type": "markdown",
      "metadata": {
        "id": "view-in-github",
        "colab_type": "text"
      },
      "source": [
        "<a href=\"https://colab.research.google.com/github/hames08/PROGCOM-B/blob/main/Copia_de_Chem_Quest_Seven.ipynb\" target=\"_parent\"><img src=\"https://colab.research.google.com/assets/colab-badge.svg\" alt=\"Open In Colab\"/></a>"
      ]
    },
    {
      "cell_type": "markdown",
      "source": [
        "##Repositorio de Palabras"
      ],
      "metadata": {
        "id": "7f_aRkxmjgfs"
      }
    },
    {
      "cell_type": "markdown",
      "source": [
        "###1. False\n",
        "Valor booleano que representa \"falso\".\n"
      ],
      "metadata": {
        "id": "MGz9cZu8jjuL"
      }
    },
    {
      "cell_type": "code",
      "execution_count": null,
      "metadata": {
        "colab": {
          "base_uri": "https://localhost:8080/"
        },
        "id": "bvONQIlWh3nf",
        "outputId": "6324f20b-9bac-49ed-f0c1-9e804260b7f3"
      },
      "outputs": [
        {
          "output_type": "stream",
          "name": "stdout",
          "text": [
            "x es falso\n"
          ]
        }
      ],
      "source": [
        "x = False\n",
        "if not x:\n",
        "    print(\"x es falso\")"
      ]
    },
    {
      "cell_type": "markdown",
      "source": [
        "###2. None\n",
        "Representa ausencia de valor o valor nulo.\n"
      ],
      "metadata": {
        "id": "_A8rx4A_j0Yi"
      }
    },
    {
      "cell_type": "code",
      "source": [
        "x = None\n",
        "if x is None:\n",
        "    print(\"x no tiene valor\")"
      ],
      "metadata": {
        "id": "FWqmP3AYkKNh"
      },
      "execution_count": null,
      "outputs": []
    },
    {
      "cell_type": "markdown",
      "source": [
        "###3. True\n",
        "Valor booleano que representa \"verdadero\"."
      ],
      "metadata": {
        "id": "79wgFnS_j1Rt"
      }
    },
    {
      "cell_type": "code",
      "source": [
        "x = True\n",
        "if x:\n",
        "    print(\"x es verdadero\")"
      ],
      "metadata": {
        "id": "WCo8WAAtkKky"
      },
      "execution_count": null,
      "outputs": []
    },
    {
      "cell_type": "markdown",
      "source": [
        "###4. and\n",
        "Operador lógico que devuelve True si ambas condiciones son verdaderas.\n"
      ],
      "metadata": {
        "id": "hn6KVUpNj1aJ"
      }
    },
    {
      "cell_type": "code",
      "source": [
        "print(True and False)"
      ],
      "metadata": {
        "colab": {
          "base_uri": "https://localhost:8080/"
        },
        "id": "khLtyTAdkK3_",
        "outputId": "42771094-51db-439c-a416-7df13686c769"
      },
      "execution_count": null,
      "outputs": [
        {
          "output_type": "stream",
          "name": "stdout",
          "text": [
            "False\n"
          ]
        }
      ]
    },
    {
      "cell_type": "markdown",
      "source": [
        "###5. as\n",
        "Crea un alias, usado en import o excepciones.\n"
      ],
      "metadata": {
        "id": "_vU1MkXXj1cp"
      }
    },
    {
      "cell_type": "code",
      "source": [
        "import math as m\n",
        "print(m.sqrt(16))"
      ],
      "metadata": {
        "colab": {
          "base_uri": "https://localhost:8080/"
        },
        "id": "t7-e8RREkLU-",
        "outputId": "a335d03c-bace-4a35-df17-5dcf7324a690"
      },
      "execution_count": null,
      "outputs": [
        {
          "output_type": "stream",
          "name": "stdout",
          "text": [
            "4.0\n"
          ]
        }
      ]
    },
    {
      "cell_type": "markdown",
      "source": [
        "###6. assert\n",
        "Verifica una condición, lanza AssertionError si es falsa.\n"
      ],
      "metadata": {
        "id": "kod3LVG3j1ev"
      }
    },
    {
      "cell_type": "code",
      "source": [
        "x = 5\n",
        "assert x > 0"
      ],
      "metadata": {
        "id": "KeMzg2CYkLkl"
      },
      "execution_count": null,
      "outputs": []
    },
    {
      "cell_type": "markdown",
      "source": [
        "###8. class\n",
        "Termina un bucle inmediatamente."
      ],
      "metadata": {
        "id": "5xocp3qrj1gE"
      }
    },
    {
      "cell_type": "code",
      "source": [
        "for i in range(5):\n",
        "    if i == 3:\n",
        "        break\n",
        "    print(i)"
      ],
      "metadata": {
        "colab": {
          "base_uri": "https://localhost:8080/"
        },
        "id": "RioSZxBhkMEi",
        "outputId": "60b0e783-0cbf-46ba-ee77-d8b9e9dc8ee5"
      },
      "execution_count": null,
      "outputs": [
        {
          "output_type": "stream",
          "name": "stdout",
          "text": [
            "0\n",
            "1\n",
            "2\n"
          ]
        }
      ]
    },
    {
      "cell_type": "markdown",
      "source": [
        "###9. continue\n",
        "Salta la iteración actual en un bucle.\n"
      ],
      "metadata": {
        "id": "DmgMknZRj1iL"
      }
    },
    {
      "cell_type": "code",
      "source": [
        "for i in range(5):\n",
        "    if i == 2:\n",
        "        continue\n",
        "    print(i)"
      ],
      "metadata": {
        "colab": {
          "base_uri": "https://localhost:8080/"
        },
        "id": "BmJ8zqsaltSQ",
        "outputId": "2702ec77-4a00-46ae-a02f-56a31e3af917"
      },
      "execution_count": null,
      "outputs": [
        {
          "output_type": "stream",
          "name": "stdout",
          "text": [
            "0\n",
            "1\n",
            "3\n",
            "4\n"
          ]
        }
      ]
    },
    {
      "cell_type": "markdown",
      "source": [
        "###10. def\n",
        "Declara una función.\n"
      ],
      "metadata": {
        "id": "gHp6v14Zj1j5"
      }
    },
    {
      "cell_type": "code",
      "source": [
        "def saludar():\n",
        "    return \"Hola\"\n",
        "print(saludar())"
      ],
      "metadata": {
        "colab": {
          "base_uri": "https://localhost:8080/"
        },
        "id": "Nj8gCYx7ltja",
        "outputId": "86e5932b-6d51-4908-f080-c637bb5b300e"
      },
      "execution_count": null,
      "outputs": [
        {
          "output_type": "stream",
          "name": "stdout",
          "text": [
            "Hola\n"
          ]
        }
      ]
    },
    {
      "cell_type": "markdown",
      "source": [
        "###11. del\n",
        "Elimina una variable o elemento de una lista."
      ],
      "metadata": {
        "id": "X-ZlWcPrj1l_"
      }
    },
    {
      "cell_type": "code",
      "source": [
        "x = [1, 2, 3]\n",
        "del x[1]\n",
        "print(x)"
      ],
      "metadata": {
        "colab": {
          "base_uri": "https://localhost:8080/"
        },
        "id": "q4AJEvEEltyv",
        "outputId": "25f94c2f-2a19-43ed-b130-d19f294d2fe3"
      },
      "execution_count": null,
      "outputs": [
        {
          "output_type": "stream",
          "name": "stdout",
          "text": [
            "[1, 3]\n"
          ]
        }
      ]
    },
    {
      "cell_type": "markdown",
      "source": [
        "###12. elif\n",
        "Condicional adicional en un if.\n"
      ],
      "metadata": {
        "id": "algputk6j1oH"
      }
    },
    {
      "cell_type": "code",
      "source": [
        "x = 0\n",
        "if x < 0:\n",
        "    print(\"Negativo\")\n",
        "elif x == 0:\n",
        "    print(\"Cero\")\n",
        "else:\n",
        "    print(\"Positivo\")"
      ],
      "metadata": {
        "colab": {
          "base_uri": "https://localhost:8080/"
        },
        "id": "z9Vg8z89lufK",
        "outputId": "137a60e1-924d-48b2-8de9-69cda0b3ebb9"
      },
      "execution_count": null,
      "outputs": [
        {
          "output_type": "stream",
          "name": "stdout",
          "text": [
            "Cero\n"
          ]
        }
      ]
    },
    {
      "cell_type": "markdown",
      "source": [
        "###13. else\n",
        "Bloque alternativo en if, for o while.\n"
      ],
      "metadata": {
        "id": "PICANdgEj1p0"
      }
    },
    {
      "cell_type": "code",
      "source": [
        "x = 10\n",
        "if x < 5:\n",
        "    print(\"Menor que 5\")\n",
        "else:\n",
        "    print(\"Mayor o igual a 5\")"
      ],
      "metadata": {
        "colab": {
          "base_uri": "https://localhost:8080/"
        },
        "id": "Cb6BbWLTlu1l",
        "outputId": "cddcb7fc-bd66-419d-a0c8-a52a1d74cc4d"
      },
      "execution_count": null,
      "outputs": [
        {
          "output_type": "stream",
          "name": "stdout",
          "text": [
            "Mayor o igual a 5\n"
          ]
        }
      ]
    },
    {
      "cell_type": "markdown",
      "source": [
        "###14. except\n",
        "Captura excepciones en un try.\n"
      ],
      "metadata": {
        "id": "e4fYYZoRj1r8"
      }
    },
    {
      "cell_type": "code",
      "source": [
        "try:\n",
        "    print(1/0)\n",
        "except ZeroDivisionError:\n",
        "    print(\"Error: división por cero\")"
      ],
      "metadata": {
        "colab": {
          "base_uri": "https://localhost:8080/"
        },
        "id": "Xk6PfWdhlvMj",
        "outputId": "00a98c12-71ef-404a-c14f-522463650c8c"
      },
      "execution_count": null,
      "outputs": [
        {
          "output_type": "stream",
          "name": "stdout",
          "text": [
            "Error: división por cero\n"
          ]
        }
      ]
    },
    {
      "cell_type": "markdown",
      "source": [
        "###15. finally\n",
        "Bloque que siempre se ejecuta en un try."
      ],
      "metadata": {
        "id": "dbICpVKOj1z8"
      }
    },
    {
      "cell_type": "code",
      "source": [
        "try:\n",
        "    x = 1 / 0\n",
        "except:\n",
        "    print(\"Error\")\n",
        "finally:\n",
        "    print(\"Siempre se ejecuta\")"
      ],
      "metadata": {
        "colab": {
          "base_uri": "https://localhost:8080/"
        },
        "id": "_aJXzyoklvmE",
        "outputId": "2c8c19a3-f564-4919-d76d-a45586a04e7d"
      },
      "execution_count": null,
      "outputs": [
        {
          "output_type": "stream",
          "name": "stdout",
          "text": [
            "Error\n",
            "Siempre se ejecuta\n"
          ]
        }
      ]
    },
    {
      "cell_type": "markdown",
      "source": [
        "###16. for\n",
        "Itera sobre una secuencia.\n"
      ],
      "metadata": {
        "id": "CJLooxNPj10c"
      }
    },
    {
      "cell_type": "code",
      "source": [
        "for i in range(3):\n",
        "    print(i)"
      ],
      "metadata": {
        "colab": {
          "base_uri": "https://localhost:8080/"
        },
        "id": "cjkUT6qHlv38",
        "outputId": "8071d70a-57ae-46ed-b5ec-91a4a6264c35"
      },
      "execution_count": null,
      "outputs": [
        {
          "output_type": "stream",
          "name": "stdout",
          "text": [
            "0\n",
            "1\n",
            "2\n"
          ]
        }
      ]
    },
    {
      "cell_type": "markdown",
      "source": [
        "###17. from\n",
        "Importa partes específicas de un módulo.\n"
      ],
      "metadata": {
        "id": "HHRiUz77j109"
      }
    },
    {
      "cell_type": "code",
      "source": [
        "from math import pi\n",
        "print(pi)"
      ],
      "metadata": {
        "colab": {
          "base_uri": "https://localhost:8080/"
        },
        "id": "tuB0KDPhlwL8",
        "outputId": "382a09af-abc1-48ef-d4f1-38249f07f9b5"
      },
      "execution_count": null,
      "outputs": [
        {
          "output_type": "stream",
          "name": "stdout",
          "text": [
            "3.141592653589793\n"
          ]
        }
      ]
    },
    {
      "cell_type": "markdown",
      "source": [
        "###18. global\n",
        "Declara una variable como global.\n"
      ],
      "metadata": {
        "id": "c9Aq6NYNj11c"
      }
    },
    {
      "cell_type": "code",
      "source": [
        "x = 5\n",
        "def f():\n",
        "    global x\n",
        "    x = 10\n",
        "f()\n",
        "print(x)"
      ],
      "metadata": {
        "colab": {
          "base_uri": "https://localhost:8080/"
        },
        "id": "rHhYddTflwdB",
        "outputId": "18ffb9a3-0f5f-4f73-b79f-5e2538ec09aa"
      },
      "execution_count": null,
      "outputs": [
        {
          "output_type": "stream",
          "name": "stdout",
          "text": [
            "10\n"
          ]
        }
      ]
    },
    {
      "cell_type": "markdown",
      "source": [
        "###19. if\n",
        "Estructura condicional.\n"
      ],
      "metadata": {
        "id": "yot9x32gj119"
      }
    },
    {
      "cell_type": "code",
      "source": [
        "x = 3\n",
        "if x > 0:\n",
        "    print(\"Positivo\")"
      ],
      "metadata": {
        "colab": {
          "base_uri": "https://localhost:8080/"
        },
        "id": "mVp8fEr4lw0u",
        "outputId": "d53c09e8-ed72-4a4f-c588-2b8d382479da"
      },
      "execution_count": null,
      "outputs": [
        {
          "output_type": "stream",
          "name": "stdout",
          "text": [
            "Positivo\n"
          ]
        }
      ]
    },
    {
      "cell_type": "markdown",
      "source": [
        "###20. import\n",
        "Importa un módulo."
      ],
      "metadata": {
        "id": "BHPNGlntj12c"
      }
    },
    {
      "cell_type": "code",
      "source": [
        "import math\n",
        "print(math.sqrt(25))"
      ],
      "metadata": {
        "colab": {
          "base_uri": "https://localhost:8080/"
        },
        "id": "-WMfe3bOlxOq",
        "outputId": "7bb887a6-923c-4b2a-8592-509ab4951ea9"
      },
      "execution_count": null,
      "outputs": [
        {
          "output_type": "stream",
          "name": "stdout",
          "text": [
            "5.0\n"
          ]
        }
      ]
    },
    {
      "cell_type": "markdown",
      "source": [
        "###21. in\n",
        "Verifica pertenencia en una secuencia.\n"
      ],
      "metadata": {
        "id": "dS8mvMisj13B"
      }
    },
    {
      "cell_type": "code",
      "source": [
        "print(3 in [1, 2, 3])"
      ],
      "metadata": {
        "colab": {
          "base_uri": "https://localhost:8080/"
        },
        "id": "RVxli6O8lxqE",
        "outputId": "089e2de8-c5a5-432c-905b-fdadb90008a6"
      },
      "execution_count": null,
      "outputs": [
        {
          "output_type": "stream",
          "name": "stdout",
          "text": [
            "True\n"
          ]
        }
      ]
    },
    {
      "cell_type": "markdown",
      "source": [
        "###22. is\n",
        "Verifica identidad de objetos.\n"
      ],
      "metadata": {
        "id": "TpDI5oxUj13i"
      }
    },
    {
      "cell_type": "code",
      "source": [
        "x = None\n",
        "print(x is None)"
      ],
      "metadata": {
        "colab": {
          "base_uri": "https://localhost:8080/"
        },
        "id": "ZHgCrY9On-op",
        "outputId": "af1b26eb-5082-4e1a-8541-49b99c19d4e2"
      },
      "execution_count": null,
      "outputs": [
        {
          "output_type": "stream",
          "name": "stdout",
          "text": [
            "True\n"
          ]
        }
      ]
    },
    {
      "cell_type": "markdown",
      "source": [
        "###23. lambda\n",
        "Define funciones anónimas de una sola línea."
      ],
      "metadata": {
        "id": "US5ilN-ej138"
      }
    },
    {
      "cell_type": "code",
      "source": [
        "doble = lambda x: x * 2\n",
        "print(doble(4))"
      ],
      "metadata": {
        "colab": {
          "base_uri": "https://localhost:8080/"
        },
        "id": "UFeGacHNn-3h",
        "outputId": "7e733036-4aaa-4697-f6e9-a65e5e60c41e"
      },
      "execution_count": null,
      "outputs": [
        {
          "output_type": "stream",
          "name": "stdout",
          "text": [
            "8\n"
          ]
        }
      ]
    },
    {
      "cell_type": "markdown",
      "source": [
        "###24. nonlocal\n",
        "Modifica variables de un ámbito externo en funciones anidadas.\n"
      ],
      "metadata": {
        "id": "rW6JKyt4j14d"
      }
    },
    {
      "cell_type": "code",
      "source": [
        "def externo():\n",
        "    x = \"externo\"\n",
        "    def interno():\n",
        "        nonlocal x\n",
        "        x = \"modificado\"\n",
        "    interno()\n",
        "    print(x)\n",
        "externo()"
      ],
      "metadata": {
        "colab": {
          "base_uri": "https://localhost:8080/"
        },
        "id": "PJezqvP2n_a0",
        "outputId": "8dd140f5-f152-4e1c-c11c-e19a7d82d1f3"
      },
      "execution_count": null,
      "outputs": [
        {
          "output_type": "stream",
          "name": "stdout",
          "text": [
            "modificado\n"
          ]
        }
      ]
    },
    {
      "cell_type": "markdown",
      "source": [
        "###25. not\n",
        "Operador lógico de negación.\n"
      ],
      "metadata": {
        "id": "D34Ac-w-j147"
      }
    },
    {
      "cell_type": "code",
      "source": [
        "print(not True)"
      ],
      "metadata": {
        "colab": {
          "base_uri": "https://localhost:8080/"
        },
        "id": "xi9j2E4Fn_tF",
        "outputId": "c2bc48d2-1a71-42e8-ffbe-6e358a5a1f1b"
      },
      "execution_count": null,
      "outputs": [
        {
          "output_type": "stream",
          "name": "stdout",
          "text": [
            "False\n"
          ]
        }
      ]
    },
    {
      "cell_type": "markdown",
      "source": [
        "###26. or\n",
        "Operador lógico que devuelve True si alguna condición es verdadera.\n"
      ],
      "metadata": {
        "id": "KHnA7HkTj15q"
      }
    },
    {
      "cell_type": "code",
      "source": [
        "print(True or False)"
      ],
      "metadata": {
        "colab": {
          "base_uri": "https://localhost:8080/"
        },
        "id": "DoCidAfWoACR",
        "outputId": "dd51e504-9241-4d1f-f2a2-b80e95de2454"
      },
      "execution_count": null,
      "outputs": [
        {
          "output_type": "stream",
          "name": "stdout",
          "text": [
            "True\n"
          ]
        }
      ]
    },
    {
      "cell_type": "markdown",
      "source": [
        "###27. pass\n",
        "Instrucción nula, no hace nada.\n"
      ],
      "metadata": {
        "id": "iw33jeXkj16L"
      }
    },
    {
      "cell_type": "code",
      "source": [
        "def f():\n",
        "    pass"
      ],
      "metadata": {
        "id": "Ezpp-GDin9_V"
      },
      "execution_count": null,
      "outputs": []
    },
    {
      "cell_type": "markdown",
      "source": [
        "###28. raise\n",
        "Lanza una excepción.\n"
      ],
      "metadata": {
        "id": "fKyOugsWj16q"
      }
    },
    {
      "cell_type": "code",
      "source": [
        "#raise ValueError(\"Error personalizado\")"
      ],
      "metadata": {
        "id": "avL9FLk1n9p-"
      },
      "execution_count": null,
      "outputs": []
    },
    {
      "cell_type": "markdown",
      "source": [
        "###29. return\n",
        "Devuelve un valor en una función.\n"
      ],
      "metadata": {
        "id": "8C0Pr6KVj17L"
      }
    },
    {
      "cell_type": "code",
      "source": [
        "def suma(a, b):\n",
        "    return a + b\n",
        "print(suma(2, 3))"
      ],
      "metadata": {
        "colab": {
          "base_uri": "https://localhost:8080/"
        },
        "id": "NPOTjm0Xn9QG",
        "outputId": "0d58dbbf-e599-45d5-e8dc-581d1e8677f0"
      },
      "execution_count": null,
      "outputs": [
        {
          "output_type": "stream",
          "name": "stdout",
          "text": [
            "5\n"
          ]
        }
      ]
    },
    {
      "cell_type": "markdown",
      "source": [
        "###30. try\n",
        "Inicia un bloque de manejo de excepciones.\n"
      ],
      "metadata": {
        "id": "jlf-TBIAj17q"
      }
    },
    {
      "cell_type": "code",
      "source": [
        "try:\n",
        "    print(10/0)\n",
        "except:\n",
        "    print(\"Error\")"
      ],
      "metadata": {
        "colab": {
          "base_uri": "https://localhost:8080/"
        },
        "id": "QeEOzQ3an802",
        "outputId": "d7a54a56-6f42-464e-f7de-b54ed978e9fe"
      },
      "execution_count": null,
      "outputs": [
        {
          "output_type": "stream",
          "name": "stdout",
          "text": [
            "Error\n"
          ]
        }
      ]
    },
    {
      "cell_type": "markdown",
      "source": [
        "###31. while\n",
        "Bucle condicional.\n"
      ],
      "metadata": {
        "id": "D3y7Rk8Uj18J"
      }
    },
    {
      "cell_type": "code",
      "source": [
        "i = 0\n",
        "while i < 3:\n",
        "    print(i)\n",
        "    i += 1"
      ],
      "metadata": {
        "colab": {
          "base_uri": "https://localhost:8080/"
        },
        "id": "sKVzM34on8gz",
        "outputId": "357085b4-2215-4ec1-b461-2f037ee7b526"
      },
      "execution_count": null,
      "outputs": [
        {
          "output_type": "stream",
          "name": "stdout",
          "text": [
            "0\n",
            "1\n",
            "2\n"
          ]
        }
      ]
    },
    {
      "cell_type": "markdown",
      "source": [
        "###32. with\n",
        "Administra recursos automáticamente."
      ],
      "metadata": {
        "id": "9cYl-o1pj18p"
      }
    },
    {
      "cell_type": "code",
      "source": [
        "with open(\"archivo.txt\", \"w\") as f:\n",
        "    f.write(\"Hola\")"
      ],
      "metadata": {
        "id": "U1W8SCbgn7rC"
      },
      "execution_count": null,
      "outputs": []
    },
    {
      "cell_type": "markdown",
      "source": [
        "###33. yield\n",
        "Convierte una función en un generador.\n"
      ],
      "metadata": {
        "id": "NKpOvrhCj19M"
      }
    },
    {
      "cell_type": "code",
      "source": [
        "def contador():\n",
        "    for i in range(3):\n",
        "        yield i\n",
        "\n",
        "for num in contador():\n",
        "    print(num)"
      ],
      "metadata": {
        "colab": {
          "base_uri": "https://localhost:8080/"
        },
        "id": "5VLvv0E8n7Ls",
        "outputId": "fd2fbea5-624d-48d9-9f60-8526264f36e0"
      },
      "execution_count": null,
      "outputs": [
        {
          "output_type": "stream",
          "name": "stdout",
          "text": [
            "0\n",
            "1\n",
            "2\n"
          ]
        }
      ]
    },
    {
      "cell_type": "markdown",
      "source": [
        "###34. __ init __\n",
        "Método especial que se ejecuta al crear una instancia de una clase (constructor).\n"
      ],
      "metadata": {
        "id": "AkA1vWrzj19s"
      }
    },
    {
      "cell_type": "code",
      "source": [
        "class Persona:\n",
        "    def __init__(self, nombre):\n",
        "        self.nombre = nombre\n",
        "\n",
        "p = Persona(\"Ana\")\n",
        "print(p.nombre)"
      ],
      "metadata": {
        "colab": {
          "base_uri": "https://localhost:8080/"
        },
        "id": "4xqiUwOupNWL",
        "outputId": "c0a0593d-d07a-479a-cb01-05bd28082c93"
      },
      "execution_count": null,
      "outputs": [
        {
          "output_type": "stream",
          "name": "stdout",
          "text": [
            "Ana\n"
          ]
        }
      ]
    },
    {
      "cell_type": "markdown",
      "source": [
        "###35. __ str __\n",
        "Método especial que define la representación en texto de un objeto.\n"
      ],
      "metadata": {
        "id": "KDntwodVj1-L"
      }
    },
    {
      "cell_type": "code",
      "source": [
        "class Persona:\n",
        "    def __init__(self, nombre):\n",
        "        self.nombre = nombre\n",
        "    def __str__(self):\n",
        "        return f\"Persona: {self.nombre}\"\n",
        "\n",
        "print(Persona(\"Carlos\"))"
      ],
      "metadata": {
        "colab": {
          "base_uri": "https://localhost:8080/"
        },
        "id": "dKnC1N1hpNmm",
        "outputId": "9113da9f-639f-4823-f07d-a03bfc5d293b"
      },
      "execution_count": null,
      "outputs": [
        {
          "output_type": "stream",
          "name": "stdout",
          "text": [
            "Persona: Carlos\n"
          ]
        }
      ]
    },
    {
      "cell_type": "markdown",
      "source": [
        "###36. __ name __\n",
        "Variable especial que indica el nombre del módulo que se está ejecutando.\n"
      ],
      "metadata": {
        "id": "WvEdJ0f8j1-r"
      }
    },
    {
      "cell_type": "code",
      "source": [
        "if __name__ == \"__main__\":\n",
        "    print(\"Este script se ejecuta directamente\")"
      ],
      "metadata": {
        "colab": {
          "base_uri": "https://localhost:8080/"
        },
        "id": "Z9Ptltu3pN8z",
        "outputId": "58b5b3e5-4e5e-463c-b4ba-8af3c3e6caf7"
      },
      "execution_count": null,
      "outputs": [
        {
          "output_type": "stream",
          "name": "stdout",
          "text": [
            "Este script se ejecuta directamente\n"
          ]
        }
      ]
    },
    {
      "cell_type": "markdown",
      "source": [
        "###37. __ main __\n",
        "Nombre que toma el módulo principal cuando se ejecuta un archivo Python.\n"
      ],
      "metadata": {
        "id": "EkZvIvE6j1_J"
      }
    },
    {
      "cell_type": "code",
      "source": [
        "if __name__ == \"__main__\":\n",
        "    print(\"Ejecutado directamente\")"
      ],
      "metadata": {
        "colab": {
          "base_uri": "https://localhost:8080/"
        },
        "id": "xyBbBv5VpORa",
        "outputId": "521257f2-9edd-4687-da8f-b3dac94f86ca"
      },
      "execution_count": null,
      "outputs": [
        {
          "output_type": "stream",
          "name": "stdout",
          "text": [
            "Ejecutado directamente\n"
          ]
        }
      ]
    },
    {
      "cell_type": "markdown",
      "source": [
        "###38. self\n",
        "Referencia al propio objeto dentro de una clase (similar a this en otros lenguajes).\n"
      ],
      "metadata": {
        "id": "Vb2y_z2Hj1_o"
      }
    },
    {
      "cell_type": "code",
      "source": [
        "class Coche:\n",
        "    def __init__(self, marca):\n",
        "        self.marca = marca\n",
        "\n",
        "c = Coche(\"Toyota\")\n",
        "print(c.marca)"
      ],
      "metadata": {
        "colab": {
          "base_uri": "https://localhost:8080/"
        },
        "id": "fe2aZIsdpOtJ",
        "outputId": "faec5813-38d2-4580-be31-ac5639d9ae2b"
      },
      "execution_count": null,
      "outputs": [
        {
          "output_type": "stream",
          "name": "stdout",
          "text": [
            "Toyota\n"
          ]
        }
      ]
    },
    {
      "cell_type": "markdown",
      "source": [
        "###39. __ doc __\n",
        "Atributo que almacena la documentación de un objeto, clase o módulo.\n"
      ],
      "metadata": {
        "id": "ptCPuOxcj2AY"
      }
    },
    {
      "cell_type": "code",
      "source": [
        "def suma(a, b):\n",
        "    \"\"\"Devuelve la suma de dos números.\"\"\"\n",
        "    return a + b\n",
        "\n",
        "print(suma.__doc__)"
      ],
      "metadata": {
        "colab": {
          "base_uri": "https://localhost:8080/"
        },
        "id": "CzeykB9dpPbZ",
        "outputId": "db5ee550-92fc-49e7-b247-25940af2aa95"
      },
      "execution_count": null,
      "outputs": [
        {
          "output_type": "stream",
          "name": "stdout",
          "text": [
            "Devuelve la suma de dos números.\n"
          ]
        }
      ]
    },
    {
      "cell_type": "markdown",
      "source": [
        "###40. __ dict __\n",
        "Devuelve un diccionario con los atributos y valores de un objeto.\n"
      ],
      "metadata": {
        "id": "3fRnv4qVj2A3"
      }
    },
    {
      "cell_type": "code",
      "source": [
        "class Animal:\n",
        "    def __init__(self, nombre, edad):\n",
        "        self.nombre = nombre\n",
        "        self.edad = edad\n",
        "\n",
        "a = Animal(\"Perro\", 5)\n",
        "print(a.__dict__)"
      ],
      "metadata": {
        "colab": {
          "base_uri": "https://localhost:8080/"
        },
        "id": "b0uaROfNpPsB",
        "outputId": "a3135e63-3ecd-481d-8ed2-dc51080460a1"
      },
      "execution_count": null,
      "outputs": [
        {
          "output_type": "stream",
          "name": "stdout",
          "text": [
            "{'nombre': 'Perro', 'edad': 5}\n"
          ]
        }
      ]
    }
  ]
}