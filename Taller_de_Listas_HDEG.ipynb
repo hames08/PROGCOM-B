{
  "nbformat": 4,
  "nbformat_minor": 0,
  "metadata": {
    "colab": {
      "provenance": [],
      "authorship_tag": "ABX9TyPdDlals1SAf493rRpFiJnK",
      "include_colab_link": true
    },
    "kernelspec": {
      "name": "python3",
      "display_name": "Python 3"
    },
    "language_info": {
      "name": "python"
    }
  },
  "cells": [
    {
      "cell_type": "markdown",
      "metadata": {
        "id": "view-in-github",
        "colab_type": "text"
      },
      "source": [
        "<a href=\"https://colab.research.google.com/github/hames08/PROGCOM-B/blob/main/Taller_de_Listas_HDEG.ipynb\" target=\"_parent\"><img src=\"https://colab.research.google.com/assets/colab-badge.svg\" alt=\"Open In Colab\"/></a>"
      ]
    },
    {
      "cell_type": "markdown",
      "source": [
        "##1. Crear una lista con los cuadrados de los números del 1 al 10."
      ],
      "metadata": {
        "id": "n3AXSdXPrKL2"
      }
    },
    {
      "cell_type": "code",
      "execution_count": 1,
      "metadata": {
        "colab": {
          "base_uri": "https://localhost:8080/"
        },
        "id": "TRjTPy44rCGs",
        "outputId": "ccca0b60-c9b5-4568-f8a4-9be56ecfa077"
      },
      "outputs": [
        {
          "output_type": "execute_result",
          "data": {
            "text/plain": [
              "[1, 4, 9, 16, 25, 36, 49, 64, 81, 100]"
            ]
          },
          "metadata": {},
          "execution_count": 1
        }
      ],
      "source": [
        "cuadrados = [i ** 2 for i in range(1,11)]\n",
        "cuadrados"
      ]
    },
    {
      "cell_type": "markdown",
      "source": [
        "##2. Obtener una lista con los números pares del 0 al 20."
      ],
      "metadata": {
        "id": "rjUUCQjRrgdI"
      }
    },
    {
      "cell_type": "code",
      "source": [
        "Numerospares = [i * 2 for i in range(1,6)]\n",
        "Numerospares"
      ],
      "metadata": {
        "colab": {
          "base_uri": "https://localhost:8080/"
        },
        "id": "pzDoIDFcri2Q",
        "outputId": "85b5fff4-88b9-49e6-d328-b3b9f6833d44"
      },
      "execution_count": 3,
      "outputs": [
        {
          "output_type": "execute_result",
          "data": {
            "text/plain": [
              "[2, 4, 6, 8, 10]"
            ]
          },
          "metadata": {},
          "execution_count": 3
        }
      ]
    },
    {
      "cell_type": "markdown",
      "source": [
        "##3. Crear una lista con el doble de cada número del 1 al 5."
      ],
      "metadata": {
        "id": "Ay56JCMarjY4"
      }
    },
    {
      "cell_type": "code",
      "source": [
        "Numerosdobles = [i * 2 for i in range(1,6)]\n",
        "Numerosdobles"
      ],
      "metadata": {
        "colab": {
          "base_uri": "https://localhost:8080/"
        },
        "id": "AmiTpyr-rjsw",
        "outputId": "668af6a6-f1b9-44d6-d533-612888a74a76"
      },
      "execution_count": 4,
      "outputs": [
        {
          "output_type": "execute_result",
          "data": {
            "text/plain": [
              "[2, 4, 6, 8, 10]"
            ]
          },
          "metadata": {},
          "execution_count": 4
        }
      ]
    },
    {
      "cell_type": "markdown",
      "source": [
        "##4. De la palabra \"programacion\", obtener solo las vocales."
      ],
      "metadata": {
        "id": "1eITqYbIrkDJ"
      }
    },
    {
      "cell_type": "code",
      "source": [
        "palabra = \"programacion\"\n",
        "vocales = [letra for letra in palabra if letra in \"aeiou\"]\n",
        "vocales"
      ],
      "metadata": {
        "colab": {
          "base_uri": "https://localhost:8080/"
        },
        "id": "FT1OhoNMrksX",
        "outputId": "915ccd05-bd4a-4ff0-eaff-28c54a5ba991"
      },
      "execution_count": 5,
      "outputs": [
        {
          "output_type": "execute_result",
          "data": {
            "text/plain": [
              "['o', 'a', 'a', 'i', 'o']"
            ]
          },
          "metadata": {},
          "execution_count": 5
        }
      ]
    },
    {
      "cell_type": "markdown",
      "source": [
        "##5. Dada la lista [\"python\", \"java\", \"c++\"], obtener otra lista con las palabras en mayúsculas."
      ],
      "metadata": {
        "id": "VYJvp7n8rlPv"
      }
    },
    {
      "cell_type": "code",
      "source": [
        "Lenguajes = [\"python\", \"java\", \"c++\"]\n",
        "Mayúsculas = [i.upper() for i in Lenguajes]\n",
        "Mayúsculas"
      ],
      "metadata": {
        "colab": {
          "base_uri": "https://localhost:8080/"
        },
        "id": "c9FWzZdyrl7P",
        "outputId": "ee197424-4ac3-4261-bb9e-86a2bd52b878"
      },
      "execution_count": 7,
      "outputs": [
        {
          "output_type": "execute_result",
          "data": {
            "text/plain": [
              "['PYTHON', 'JAVA', 'C++']"
            ]
          },
          "metadata": {},
          "execution_count": 7
        }
      ]
    },
    {
      "cell_type": "markdown",
      "source": [
        "##6. Crear una lista con \"par\" o \"impar\" para los números del 1 al 10."
      ],
      "metadata": {
        "id": "OvF_uj6Hrtnb"
      }
    },
    {
      "cell_type": "code",
      "source": [
        "Listadenumeros = [1,2,3,4,5,6,7,8,9,10]\n",
        "pareseimpares = [(\"par\",x) if x%2==0 else (\"impar\",x) for x in Listadenumeros]\n",
        "pareseimpares"
      ],
      "metadata": {
        "colab": {
          "base_uri": "https://localhost:8080/"
        },
        "id": "aUVzRy3UruH_",
        "outputId": "50cb316c-e794-4e32-f78c-ad9f771ed069"
      },
      "execution_count": 8,
      "outputs": [
        {
          "output_type": "execute_result",
          "data": {
            "text/plain": [
              "[('impar', 1),\n",
              " ('par', 2),\n",
              " ('impar', 3),\n",
              " ('par', 4),\n",
              " ('impar', 5),\n",
              " ('par', 6),\n",
              " ('impar', 7),\n",
              " ('par', 8),\n",
              " ('impar', 9),\n",
              " ('par', 10)]"
            ]
          },
          "metadata": {},
          "execution_count": 8
        }
      ]
    },
    {
      "cell_type": "markdown",
      "source": [
        "##7. Generar una lista de tuplas con el número y su cuadrado del 1 al 5."
      ],
      "metadata": {
        "id": "VZdNopxRrudP"
      }
    },
    {
      "cell_type": "code",
      "source": [
        "Listadenumeros = [1,2,3,4,5]\n",
        "Cuadrados = [(x, \"su cuadrado es\" ,x**2 ) for x in Listadenumeros]\n",
        "Cuadrados"
      ],
      "metadata": {
        "colab": {
          "base_uri": "https://localhost:8080/"
        },
        "id": "ZOZaVdUkru8_",
        "outputId": "82c272e0-be9e-4799-b07f-4fe68ae7b044"
      },
      "execution_count": 9,
      "outputs": [
        {
          "output_type": "execute_result",
          "data": {
            "text/plain": [
              "[(1, 'su cuadrado es', 1),\n",
              " (2, 'su cuadrado es', 4),\n",
              " (3, 'su cuadrado es', 9),\n",
              " (4, 'su cuadrado es', 16),\n",
              " (5, 'su cuadrado es', 25)]"
            ]
          },
          "metadata": {},
          "execution_count": 9
        }
      ]
    },
    {
      "cell_type": "markdown",
      "source": [
        "##8. Crear una lista con todas las combinaciones de letras en [\"a\",\"b\"] y números en [1,2,3]."
      ],
      "metadata": {
        "id": "gSr2MsnErvXv"
      }
    },
    {
      "cell_type": "code",
      "source": [
        "Letras = [\"a\",\"b\"]\n",
        "Numeros = [1,2,3]\n",
        "Combinados = [(letra,Numero) for letra in Letras for Numero in Numeros]\n",
        "Combinados"
      ],
      "metadata": {
        "colab": {
          "base_uri": "https://localhost:8080/"
        },
        "id": "UvEEeYnMrwPv",
        "outputId": "ec20d871-72e8-4dd1-820f-08b0f8384454"
      },
      "execution_count": 12,
      "outputs": [
        {
          "output_type": "execute_result",
          "data": {
            "text/plain": [
              "[('a', 1), ('a', 2), ('a', 3), ('b', 1), ('b', 2), ('b', 3)]"
            ]
          },
          "metadata": {},
          "execution_count": 12
        }
      ]
    },
    {
      "cell_type": "markdown",
      "source": [
        "##9. De la lista [\"sol\", \"estrella\", \"mar\", \"planeta\"], obtener solo las palabras con más de 4 letras."
      ],
      "metadata": {
        "id": "RQ5H2Vv9rw56"
      }
    },
    {
      "cell_type": "code",
      "source": [
        "palabras = [\"sol\", \"estrella\", \"mar\", \"planeta\"]\n",
        "palabras4 = [i for i in palabras if len(i) > 4]\n",
        "palabras4"
      ],
      "metadata": {
        "colab": {
          "base_uri": "https://localhost:8080/"
        },
        "id": "mlcXd3QtrxSf",
        "outputId": "5964dc40-5c99-4e49-8cba-67eae614e284"
      },
      "execution_count": 14,
      "outputs": [
        {
          "output_type": "execute_result",
          "data": {
            "text/plain": [
              "['estrella', 'planeta']"
            ]
          },
          "metadata": {},
          "execution_count": 14
        }
      ]
    },
    {
      "cell_type": "markdown",
      "source": [
        "##10. Clasificar la temperatura de una lista. Si la temperatura es menor a 26, el clima es \"frío\". Si está entre 26 a 29, es \"templado\". Si es mayor a 29, el clima es \"caliente\""
      ],
      "metadata": {
        "id": "vCGUkGmbr1A5"
      }
    },
    {
      "cell_type": "code",
      "source": [
        "temperaturas = [20, 25, 28, 30, 22, 27, 31]\n",
        "clasificacionclima = [\"frío\" if temp < 26 else \"templado\" if 26 <= temp <= 29 else \"caliente\" for temp in temperaturas]\n",
        "clasificacionclima"
      ],
      "metadata": {
        "colab": {
          "base_uri": "https://localhost:8080/"
        },
        "id": "fvMEopTJr1fX",
        "outputId": "abb1760f-a3f3-47da-c79a-4ed6dc51a187"
      },
      "execution_count": 15,
      "outputs": [
        {
          "output_type": "execute_result",
          "data": {
            "text/plain": [
              "['frío', 'frío', 'templado', 'caliente', 'frío', 'templado', 'caliente']"
            ]
          },
          "metadata": {},
          "execution_count": 15
        }
      ]
    }
  ]
}